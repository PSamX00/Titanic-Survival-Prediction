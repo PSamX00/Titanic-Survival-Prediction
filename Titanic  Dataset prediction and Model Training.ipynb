{
 "cells": [
  {
   "cell_type": "markdown",
   "id": "7fe040ce",
   "metadata": {},
   "source": [
    "# TITANIC SURVIVAL PREDICTION"
   ]
  },
  {
   "cell_type": "markdown",
   "id": "e268c8c0",
   "metadata": {},
   "source": [
    "Packeges used"
   ]
  },
  {
   "cell_type": "markdown",
   "id": "7c6ff048",
   "metadata": {},
   "source": [
    "\n",
    "\n",
    "### EDA:\n",
    "  \n",
    "\n",
    "\n",
    "    \n",
    "\n",
    "\n",
    "    \n"
   ]
  },
  {
   "cell_type": "markdown",
   "id": "52cce637",
   "metadata": {},
   "source": [
    "  PANDAS,\n",
    "    NUMPY"
   ]
  },
  {
   "cell_type": "markdown",
   "id": "10e43795",
   "metadata": {},
   "source": [
    "## VISUALS:"
   ]
  },
  {
   "cell_type": "markdown",
   "id": "304b7878",
   "metadata": {},
   "source": [
    "MATPLOTLIB,\n",
    "SEABORN"
   ]
  },
  {
   "cell_type": "markdown",
   "id": "72739fd3",
   "metadata": {},
   "source": [
    "### MODELS AND ALGORITHMS USED:"
   ]
  },
  {
   "cell_type": "markdown",
   "id": "a98992ed",
   "metadata": {},
   "source": [
    "\n",
    " 1. LOGISTIC REGRESION,\n",
    " 2.  K-NEAREST NEIGHBOUR,\n",
    " 3.  DECISION TREE"
   ]
  },
  {
   "cell_type": "markdown",
   "id": "4ed61a21",
   "metadata": {},
   "source": [
    "Steps followed\n",
    "\n",
    "1. Data Reading\n",
    "2. Data Cleaning\n",
    "3. Visualising Data\n",
    "4. Understanding The Data\n",
    "5. Training Models on the Data"
   ]
  },
  {
   "cell_type": "markdown",
   "id": "bf2f6309",
   "metadata": {},
   "source": [
    "NB:\n",
    "    0 : FEMALE     1: MALE\n",
    "0:  DID NOT SURVIVE   1: SURVIVOR"
   ]
  },
  {
   "cell_type": "markdown",
   "id": "00585e4c",
   "metadata": {},
   "source": [
    "Importing Libraries"
   ]
  },
  {
   "cell_type": "code",
   "execution_count": 478,
   "id": "ee54e400",
   "metadata": {},
   "outputs": [],
   "source": [
    "import pandas as pd\n",
    "import numpy as np\n",
    "import matplotlib.pyplot as plt\n",
    "import seaborn as sns"
   ]
  },
  {
   "cell_type": "markdown",
   "id": "b0552ff5",
   "metadata": {},
   "source": [
    "Reading Data"
   ]
  },
  {
   "cell_type": "code",
   "execution_count": 479,
   "id": "bcda5137",
   "metadata": {},
   "outputs": [],
   "source": [
    "df = pd.read_csv(\"titanic.csv\")"
   ]
  },
  {
   "cell_type": "code",
   "execution_count": 480,
   "id": "4dd03eba",
   "metadata": {},
   "outputs": [
    {
     "data": {
      "text/html": [
       "<div>\n",
       "<style scoped>\n",
       "    .dataframe tbody tr th:only-of-type {\n",
       "        vertical-align: middle;\n",
       "    }\n",
       "\n",
       "    .dataframe tbody tr th {\n",
       "        vertical-align: top;\n",
       "    }\n",
       "\n",
       "    .dataframe thead th {\n",
       "        text-align: right;\n",
       "    }\n",
       "</style>\n",
       "<table border=\"1\" class=\"dataframe\">\n",
       "  <thead>\n",
       "    <tr style=\"text-align: right;\">\n",
       "      <th></th>\n",
       "      <th>PassengerId</th>\n",
       "      <th>Survived</th>\n",
       "      <th>Pclass</th>\n",
       "      <th>Name</th>\n",
       "      <th>Sex</th>\n",
       "      <th>Age</th>\n",
       "      <th>SibSp</th>\n",
       "      <th>Parch</th>\n",
       "      <th>Ticket</th>\n",
       "      <th>Fare</th>\n",
       "      <th>Cabin</th>\n",
       "      <th>Embarked</th>\n",
       "    </tr>\n",
       "  </thead>\n",
       "  <tbody>\n",
       "    <tr>\n",
       "      <th>0</th>\n",
       "      <td>1</td>\n",
       "      <td>0</td>\n",
       "      <td>3</td>\n",
       "      <td>Braund, Mr. Owen Harris</td>\n",
       "      <td>male</td>\n",
       "      <td>22.0</td>\n",
       "      <td>1</td>\n",
       "      <td>0</td>\n",
       "      <td>A/5 21171</td>\n",
       "      <td>7.2500</td>\n",
       "      <td>NaN</td>\n",
       "      <td>S</td>\n",
       "    </tr>\n",
       "    <tr>\n",
       "      <th>1</th>\n",
       "      <td>2</td>\n",
       "      <td>1</td>\n",
       "      <td>1</td>\n",
       "      <td>Cumings, Mrs. John Bradley (Florence Briggs Th...</td>\n",
       "      <td>female</td>\n",
       "      <td>38.0</td>\n",
       "      <td>1</td>\n",
       "      <td>0</td>\n",
       "      <td>PC 17599</td>\n",
       "      <td>71.2833</td>\n",
       "      <td>C85</td>\n",
       "      <td>C</td>\n",
       "    </tr>\n",
       "    <tr>\n",
       "      <th>2</th>\n",
       "      <td>3</td>\n",
       "      <td>1</td>\n",
       "      <td>3</td>\n",
       "      <td>Heikkinen, Miss. Laina</td>\n",
       "      <td>female</td>\n",
       "      <td>26.0</td>\n",
       "      <td>0</td>\n",
       "      <td>0</td>\n",
       "      <td>STON/O2. 3101282</td>\n",
       "      <td>7.9250</td>\n",
       "      <td>NaN</td>\n",
       "      <td>S</td>\n",
       "    </tr>\n",
       "    <tr>\n",
       "      <th>3</th>\n",
       "      <td>4</td>\n",
       "      <td>1</td>\n",
       "      <td>1</td>\n",
       "      <td>Futrelle, Mrs. Jacques Heath (Lily May Peel)</td>\n",
       "      <td>female</td>\n",
       "      <td>35.0</td>\n",
       "      <td>1</td>\n",
       "      <td>0</td>\n",
       "      <td>113803</td>\n",
       "      <td>53.1000</td>\n",
       "      <td>C123</td>\n",
       "      <td>S</td>\n",
       "    </tr>\n",
       "    <tr>\n",
       "      <th>4</th>\n",
       "      <td>5</td>\n",
       "      <td>0</td>\n",
       "      <td>3</td>\n",
       "      <td>Allen, Mr. William Henry</td>\n",
       "      <td>male</td>\n",
       "      <td>35.0</td>\n",
       "      <td>0</td>\n",
       "      <td>0</td>\n",
       "      <td>373450</td>\n",
       "      <td>8.0500</td>\n",
       "      <td>NaN</td>\n",
       "      <td>S</td>\n",
       "    </tr>\n",
       "    <tr>\n",
       "      <th>5</th>\n",
       "      <td>6</td>\n",
       "      <td>0</td>\n",
       "      <td>3</td>\n",
       "      <td>Moran, Mr. James</td>\n",
       "      <td>male</td>\n",
       "      <td>NaN</td>\n",
       "      <td>0</td>\n",
       "      <td>0</td>\n",
       "      <td>330877</td>\n",
       "      <td>8.4583</td>\n",
       "      <td>NaN</td>\n",
       "      <td>Q</td>\n",
       "    </tr>\n",
       "    <tr>\n",
       "      <th>6</th>\n",
       "      <td>7</td>\n",
       "      <td>0</td>\n",
       "      <td>1</td>\n",
       "      <td>McCarthy, Mr. Timothy J</td>\n",
       "      <td>male</td>\n",
       "      <td>54.0</td>\n",
       "      <td>0</td>\n",
       "      <td>0</td>\n",
       "      <td>17463</td>\n",
       "      <td>51.8625</td>\n",
       "      <td>E46</td>\n",
       "      <td>S</td>\n",
       "    </tr>\n",
       "    <tr>\n",
       "      <th>7</th>\n",
       "      <td>8</td>\n",
       "      <td>0</td>\n",
       "      <td>3</td>\n",
       "      <td>Palsson, Master. Gosta Leonard</td>\n",
       "      <td>male</td>\n",
       "      <td>2.0</td>\n",
       "      <td>3</td>\n",
       "      <td>1</td>\n",
       "      <td>349909</td>\n",
       "      <td>21.0750</td>\n",
       "      <td>NaN</td>\n",
       "      <td>S</td>\n",
       "    </tr>\n",
       "    <tr>\n",
       "      <th>8</th>\n",
       "      <td>9</td>\n",
       "      <td>1</td>\n",
       "      <td>3</td>\n",
       "      <td>Johnson, Mrs. Oscar W (Elisabeth Vilhelmina Berg)</td>\n",
       "      <td>female</td>\n",
       "      <td>27.0</td>\n",
       "      <td>0</td>\n",
       "      <td>2</td>\n",
       "      <td>347742</td>\n",
       "      <td>11.1333</td>\n",
       "      <td>NaN</td>\n",
       "      <td>S</td>\n",
       "    </tr>\n",
       "    <tr>\n",
       "      <th>9</th>\n",
       "      <td>10</td>\n",
       "      <td>1</td>\n",
       "      <td>2</td>\n",
       "      <td>Nasser, Mrs. Nicholas (Adele Achem)</td>\n",
       "      <td>female</td>\n",
       "      <td>14.0</td>\n",
       "      <td>1</td>\n",
       "      <td>0</td>\n",
       "      <td>237736</td>\n",
       "      <td>30.0708</td>\n",
       "      <td>NaN</td>\n",
       "      <td>C</td>\n",
       "    </tr>\n",
       "  </tbody>\n",
       "</table>\n",
       "</div>"
      ],
      "text/plain": [
       "   PassengerId  Survived  Pclass  \\\n",
       "0            1         0       3   \n",
       "1            2         1       1   \n",
       "2            3         1       3   \n",
       "3            4         1       1   \n",
       "4            5         0       3   \n",
       "5            6         0       3   \n",
       "6            7         0       1   \n",
       "7            8         0       3   \n",
       "8            9         1       3   \n",
       "9           10         1       2   \n",
       "\n",
       "                                                Name     Sex   Age  SibSp  \\\n",
       "0                            Braund, Mr. Owen Harris    male  22.0      1   \n",
       "1  Cumings, Mrs. John Bradley (Florence Briggs Th...  female  38.0      1   \n",
       "2                             Heikkinen, Miss. Laina  female  26.0      0   \n",
       "3       Futrelle, Mrs. Jacques Heath (Lily May Peel)  female  35.0      1   \n",
       "4                           Allen, Mr. William Henry    male  35.0      0   \n",
       "5                                   Moran, Mr. James    male   NaN      0   \n",
       "6                            McCarthy, Mr. Timothy J    male  54.0      0   \n",
       "7                     Palsson, Master. Gosta Leonard    male   2.0      3   \n",
       "8  Johnson, Mrs. Oscar W (Elisabeth Vilhelmina Berg)  female  27.0      0   \n",
       "9                Nasser, Mrs. Nicholas (Adele Achem)  female  14.0      1   \n",
       "\n",
       "   Parch            Ticket     Fare Cabin Embarked  \n",
       "0      0         A/5 21171   7.2500   NaN        S  \n",
       "1      0          PC 17599  71.2833   C85        C  \n",
       "2      0  STON/O2. 3101282   7.9250   NaN        S  \n",
       "3      0            113803  53.1000  C123        S  \n",
       "4      0            373450   8.0500   NaN        S  \n",
       "5      0            330877   8.4583   NaN        Q  \n",
       "6      0             17463  51.8625   E46        S  \n",
       "7      1            349909  21.0750   NaN        S  \n",
       "8      2            347742  11.1333   NaN        S  \n",
       "9      0            237736  30.0708   NaN        C  "
      ]
     },
     "execution_count": 480,
     "metadata": {},
     "output_type": "execute_result"
    }
   ],
   "source": [
    "df.head(10)"
   ]
  },
  {
   "cell_type": "markdown",
   "id": "067d62ff",
   "metadata": {},
   "source": [
    "## EDA"
   ]
  },
  {
   "cell_type": "code",
   "execution_count": 481,
   "id": "07b5bc95",
   "metadata": {},
   "outputs": [
    {
     "data": {
      "text/plain": [
       "PassengerId      0\n",
       "Survived         0\n",
       "Pclass           0\n",
       "Name             0\n",
       "Sex              0\n",
       "Age            177\n",
       "SibSp            0\n",
       "Parch            0\n",
       "Ticket           0\n",
       "Fare             0\n",
       "Cabin          687\n",
       "Embarked         2\n",
       "dtype: int64"
      ]
     },
     "execution_count": 481,
     "metadata": {},
     "output_type": "execute_result"
    }
   ],
   "source": [
    "df.isna().sum()"
   ]
  },
  {
   "cell_type": "code",
   "execution_count": 482,
   "id": "8aebaceb",
   "metadata": {},
   "outputs": [
    {
     "data": {
      "text/plain": [
       "(891, 12)"
      ]
     },
     "execution_count": 482,
     "metadata": {},
     "output_type": "execute_result"
    }
   ],
   "source": [
    "df.shape"
   ]
  },
  {
   "cell_type": "code",
   "execution_count": 483,
   "id": "1016164b",
   "metadata": {},
   "outputs": [
    {
     "data": {
      "text/plain": [
       "PassengerId      int64\n",
       "Survived         int64\n",
       "Pclass           int64\n",
       "Name            object\n",
       "Sex             object\n",
       "Age            float64\n",
       "SibSp            int64\n",
       "Parch            int64\n",
       "Ticket          object\n",
       "Fare           float64\n",
       "Cabin           object\n",
       "Embarked        object\n",
       "dtype: object"
      ]
     },
     "execution_count": 483,
     "metadata": {},
     "output_type": "execute_result"
    }
   ],
   "source": [
    "df.dtypes"
   ]
  },
  {
   "cell_type": "code",
   "execution_count": 484,
   "id": "4d95c902",
   "metadata": {},
   "outputs": [
    {
     "data": {
      "image/png": "[encoded data removed]",
      "text/plain": [
       "<Figure size 432x288 with 1 Axes>"
      ]
     },
     "metadata": {
      "needs_background": "light"
     },
     "output_type": "display_data"
    }
   ],
   "source": [
    "sns.countplot('Survived',data=df)\n",
    "plt.title(\"Survived Graph\")\n",
    "plt.show()"
   ]
  },
  {
   "cell_type": "markdown",
   "id": "679f0c5b",
   "metadata": {},
   "source": [
    "here 0 means did not survived and 1 means survived It can be clearly seen Mostly people did not survive the sink"
   ]
  },
  {
   "cell_type": "code",
   "execution_count": 485,
   "id": "c3615821",
   "metadata": {},
   "outputs": [
    {
     "data": {
      "text/plain": [
       "Sex     Survived\n",
       "female  0            81\n",
       "        1           233\n",
       "male    0           468\n",
       "        1           109\n",
       "Name: Survived, dtype: int64"
      ]
     },
     "execution_count": 485,
     "metadata": {},
     "output_type": "execute_result"
    }
   ],
   "source": [
    "df.groupby(['Sex','Survived'])['Survived'].count()"
   ]
  },
  {
   "cell_type": "code",
   "execution_count": 486,
   "id": "db18296f",
   "metadata": {},
   "outputs": [
    {
     "data": {
      "image/png": "[encoded data removed]",
      "text/plain": [
       "<Figure size 432x288 with 1 Axes>"
      ]
     },
     "metadata": {
      "needs_background": "light"
     },
     "output_type": "display_data"
    }
   ],
   "source": [
    "df.groupby(['Sex','Survived'])['Survived'].plot.bar()\n",
    "sns.countplot('Sex',hue='Survived', data = df)\n",
    "plt.show()\n"
   ]
  },
  {
   "cell_type": "markdown",
   "id": "ac949d79",
   "metadata": {},
   "source": [
    "So it can be seen that more males did not survive the sink compared to females."
   ]
  },
  {
   "cell_type": "code",
   "execution_count": 487,
   "id": "3e944090",
   "metadata": {},
   "outputs": [
    {
     "data": {
      "image/png": "[encoded data removed]",
      "text/plain": [
       "<Figure size 432x288 with 1 Axes>"
      ]
     },
     "metadata": {
      "needs_background": "light"
     },
     "output_type": "display_data"
    }
   ],
   "source": [
    "sns.countplot('Pclass',hue='Survived', data=df)\n",
    "plt.title('Pclass vs Survived')\n",
    "plt.show()"
   ]
  },
  {
   "cell_type": "markdown",
   "id": "bc3a7bed",
   "metadata": {},
   "source": [
    "Mostly 3st class passengers did not survived followed by 2nd class and then 1st class. So we can deduce st class passengers were given the most priority during evacuation"
   ]
  },
  {
   "cell_type": "code",
   "execution_count": 488,
   "id": "af2acd3d",
   "metadata": {},
   "outputs": [
    {
     "data": {
      "text/html": [
       "<style type=\"text/css\">\n",
       "#T_92bcb_row0_col0, #T_92bcb_row0_col1, #T_92bcb_row0_col3, #T_92bcb_row3_col2 {\n",
       "  background-color: #ffff66;\n",
       "  color: #000000;\n",
       "}\n",
       "#T_92bcb_row0_col2, #T_92bcb_row1_col2 {\n",
       "  background-color: #f1f866;\n",
       "  color: #000000;\n",
       "}\n",
       "#T_92bcb_row1_col0 {\n",
       "  background-color: #96cb66;\n",
       "  color: #000000;\n",
       "}\n",
       "#T_92bcb_row1_col1 {\n",
       "  background-color: #a3d166;\n",
       "  color: #000000;\n",
       "}\n",
       "#T_92bcb_row1_col3 {\n",
       "  background-color: #cfe766;\n",
       "  color: #000000;\n",
       "}\n",
       "#T_92bcb_row2_col0 {\n",
       "  background-color: #a7d366;\n",
       "  color: #000000;\n",
       "}\n",
       "#T_92bcb_row2_col1, #T_92bcb_row2_col3 {\n",
       "  background-color: #85c266;\n",
       "  color: #000000;\n",
       "}\n",
       "#T_92bcb_row2_col2 {\n",
       "  background-color: #6eb666;\n",
       "  color: #f1f1f1;\n",
       "}\n",
       "#T_92bcb_row3_col0 {\n",
       "  background-color: #cde666;\n",
       "  color: #000000;\n",
       "}\n",
       "#T_92bcb_row3_col1 {\n",
       "  background-color: #f0f866;\n",
       "  color: #000000;\n",
       "}\n",
       "#T_92bcb_row3_col3 {\n",
       "  background-color: #f7fb66;\n",
       "  color: #000000;\n",
       "}\n",
       "#T_92bcb_row4_col0, #T_92bcb_row4_col1, #T_92bcb_row4_col2, #T_92bcb_row4_col3 {\n",
       "  background-color: #008066;\n",
       "  color: #f1f1f1;\n",
       "}\n",
       "</style>\n",
       "<table id=\"T_92bcb_\">\n",
       "  <thead>\n",
       "    <tr>\n",
       "      <th class=\"blank\" >&nbsp;</th>\n",
       "      <th class=\"index_name level0\" >Pclass</th>\n",
       "      <th class=\"col_heading level0 col0\" >1</th>\n",
       "      <th class=\"col_heading level0 col1\" >2</th>\n",
       "      <th class=\"col_heading level0 col2\" >3</th>\n",
       "      <th class=\"col_heading level0 col3\" >All</th>\n",
       "    </tr>\n",
       "    <tr>\n",
       "      <th class=\"index_name level0\" >Sex</th>\n",
       "      <th class=\"index_name level1\" >Survived</th>\n",
       "      <th class=\"blank col0\" >&nbsp;</th>\n",
       "      <th class=\"blank col1\" >&nbsp;</th>\n",
       "      <th class=\"blank col2\" >&nbsp;</th>\n",
       "      <th class=\"blank col3\" >&nbsp;</th>\n",
       "    </tr>\n",
       "  </thead>\n",
       "  <tbody>\n",
       "    <tr>\n",
       "      <th id=\"T_92bcb_level0_row0\" class=\"row_heading level0 row0\" rowspan=\"2\">female</th>\n",
       "      <th id=\"T_92bcb_level1_row0\" class=\"row_heading level1 row0\" >0</th>\n",
       "      <td id=\"T_92bcb_row0_col0\" class=\"data row0 col0\" >3</td>\n",
       "      <td id=\"T_92bcb_row0_col1\" class=\"data row0 col1\" >6</td>\n",
       "      <td id=\"T_92bcb_row0_col2\" class=\"data row0 col2\" >72</td>\n",
       "      <td id=\"T_92bcb_row0_col3\" class=\"data row0 col3\" >81</td>\n",
       "    </tr>\n",
       "    <tr>\n",
       "      <th id=\"T_92bcb_level1_row1\" class=\"row_heading level1 row1\" >1</th>\n",
       "      <td id=\"T_92bcb_row1_col0\" class=\"data row1 col0\" >91</td>\n",
       "      <td id=\"T_92bcb_row1_col1\" class=\"data row1 col1\" >70</td>\n",
       "      <td id=\"T_92bcb_row1_col2\" class=\"data row1 col2\" >72</td>\n",
       "      <td id=\"T_92bcb_row1_col3\" class=\"data row1 col3\" >233</td>\n",
       "    </tr>\n",
       "    <tr>\n",
       "      <th id=\"T_92bcb_level0_row2\" class=\"row_heading level0 row2\" rowspan=\"2\">male</th>\n",
       "      <th id=\"T_92bcb_level1_row2\" class=\"row_heading level1 row2\" >0</th>\n",
       "      <td id=\"T_92bcb_row2_col0\" class=\"data row2 col0\" >77</td>\n",
       "      <td id=\"T_92bcb_row2_col1\" class=\"data row2 col1\" >91</td>\n",
       "      <td id=\"T_92bcb_row2_col2\" class=\"data row2 col2\" >300</td>\n",
       "      <td id=\"T_92bcb_row2_col3\" class=\"data row2 col3\" >468</td>\n",
       "    </tr>\n",
       "    <tr>\n",
       "      <th id=\"T_92bcb_level1_row3\" class=\"row_heading level1 row3\" >1</th>\n",
       "      <td id=\"T_92bcb_row3_col0\" class=\"data row3 col0\" >45</td>\n",
       "      <td id=\"T_92bcb_row3_col1\" class=\"data row3 col1\" >17</td>\n",
       "      <td id=\"T_92bcb_row3_col2\" class=\"data row3 col2\" >47</td>\n",
       "      <td id=\"T_92bcb_row3_col3\" class=\"data row3 col3\" >109</td>\n",
       "    </tr>\n",
       "    <tr>\n",
       "      <th id=\"T_92bcb_level0_row4\" class=\"row_heading level0 row4\" >All</th>\n",
       "      <th id=\"T_92bcb_level1_row4\" class=\"row_heading level1 row4\" ></th>\n",
       "      <td id=\"T_92bcb_row4_col0\" class=\"data row4 col0\" >216</td>\n",
       "      <td id=\"T_92bcb_row4_col1\" class=\"data row4 col1\" >184</td>\n",
       "      <td id=\"T_92bcb_row4_col2\" class=\"data row4 col2\" >491</td>\n",
       "      <td id=\"T_92bcb_row4_col3\" class=\"data row4 col3\" >891</td>\n",
       "    </tr>\n",
       "  </tbody>\n",
       "</table>\n"
      ],
      "text/plain": [
       "<pandas.io.formats.style.Styler at 0x2481dd02400>"
      ]
     },
     "execution_count": 488,
     "metadata": {},
     "output_type": "execute_result"
    }
   ],
   "source": [
    "pd.crosstab([df.Sex,df.Survived], df.Pclass,margins =True).style.background_gradient(cmap='summer_r')"
   ]
  },
  {
   "cell_type": "markdown",
   "id": "3e5189c0",
   "metadata": {},
   "source": [
    "this is a crosstab between Gender Survival and the clas they belonged to"
   ]
  },
  {
   "cell_type": "code",
   "execution_count": 489,
   "id": "ff4d9b4c",
   "metadata": {},
   "outputs": [
    {
     "data": {
      "image/png": "[encoded data removed]",
      "text/plain": [
       "<Figure size 720x360 with 2 Axes>"
      ]
     },
     "metadata": {
      "needs_background": "light"
     },
     "output_type": "display_data"
    }
   ],
   "source": [
    "f,ax=plt.subplots(1,2, figsize=(10,5))\n",
    "sns.violinplot('Pclass', 'Age',hue='Survived', data=df,split=True,ax=ax[0])\n",
    "sns.violinplot('Sex', 'Age',hue='Survived', data=df,split=True,ax=ax[1])\n",
    "plt.show()\n"
   ]
  },
  {
   "cell_type": "markdown",
   "id": "ea82abc1",
   "metadata": {},
   "source": [
    "This violin plot is a comparison between the survival of classes along with the gender"
   ]
  },
  {
   "cell_type": "code",
   "execution_count": 490,
   "id": "1802b4f4",
   "metadata": {},
   "outputs": [
    {
     "data": {
      "text/plain": [
       "Index(['PassengerId', 'Survived', 'Pclass', 'Name', 'Sex', 'Age', 'SibSp',\n",
       "       'Parch', 'Ticket', 'Fare', 'Cabin', 'Embarked'],\n",
       "      dtype='object')"
      ]
     },
     "execution_count": 490,
     "metadata": {},
     "output_type": "execute_result"
    }
   ],
   "source": [
    "df. columns"
   ]
  },
  {
   "cell_type": "code",
   "execution_count": 491,
   "id": "87ce16a0",
   "metadata": {},
   "outputs": [
    {
     "data": {
      "text/plain": [
       "0                                Braund, Mr. Owen Harris\n",
       "1      Cumings, Mrs. John Bradley (Florence Briggs Th...\n",
       "2                                 Heikkinen, Miss. Laina\n",
       "3           Futrelle, Mrs. Jacques Heath (Lily May Peel)\n",
       "4                               Allen, Mr. William Henry\n",
       "                             ...                        \n",
       "886                                Montvila, Rev. Juozas\n",
       "887                         Graham, Miss. Margaret Edith\n",
       "888             Johnston, Miss. Catherine Helen \"Carrie\"\n",
       "889                                Behr, Mr. Karl Howell\n",
       "890                                  Dooley, Mr. Patrick\n",
       "Name: Name, Length: 891, dtype: object"
      ]
     },
     "execution_count": 491,
     "metadata": {},
     "output_type": "execute_result"
    }
   ],
   "source": [
    "df[\"Name\"]"
   ]
  },
  {
   "cell_type": "markdown",
   "id": "14ba0aca",
   "metadata": {},
   "source": [
    "So we ca see there are many type of initials MR. Mrs. Cols. we change it to just thre Mr. Mrs. Miss and others. That is to make us undestand the data better"
   ]
  },
  {
   "cell_type": "code",
   "execution_count": 492,
   "id": "46044d70",
   "metadata": {},
   "outputs": [],
   "source": [
    "df['initial']=0\n",
    "for i in df.Name:\n",
    "    df['initial']=df.Name.str.extract('([A-Za-z]+)\\.')"
   ]
  },
  {
   "cell_type": "code",
   "execution_count": 493,
   "id": "5d4e9772",
   "metadata": {},
   "outputs": [
    {
     "data": {
      "text/plain": [
       "0        Mr\n",
       "1       Mrs\n",
       "2      Miss\n",
       "3       Mrs\n",
       "4        Mr\n",
       "       ... \n",
       "886     Rev\n",
       "887    Miss\n",
       "888    Miss\n",
       "889      Mr\n",
       "890      Mr\n",
       "Name: initial, Length: 891, dtype: object"
      ]
     },
     "execution_count": 493,
     "metadata": {},
     "output_type": "execute_result"
    }
   ],
   "source": [
    "df['initial']"
   ]
  },
  {
   "cell_type": "code",
   "execution_count": 494,
   "id": "35524216",
   "metadata": {},
   "outputs": [
    {
     "data": {
      "text/plain": [
       "array(['Mr', 'Mrs', 'Miss', 'Master', 'Don', 'Rev', 'Dr', 'Mme', 'Ms',\n",
       "       'Major', 'Lady', 'Sir', 'Mlle', 'Col', 'Capt', 'Countess',\n",
       "       'Jonkheer'], dtype=object)"
      ]
     },
     "execution_count": 494,
     "metadata": {},
     "output_type": "execute_result"
    }
   ],
   "source": [
    "df[\"initial\"].unique()"
   ]
  },
  {
   "cell_type": "markdown",
   "id": "a351f1cd",
   "metadata": {},
   "source": [
    "So there are this many Initials present in  the dataset which makes the interpretation of the data a bit tough"
   ]
  },
  {
   "cell_type": "code",
   "execution_count": 495,
   "id": "63ccd8b0",
   "metadata": {},
   "outputs": [
    {
     "data": {
      "text/html": [
       "<style type=\"text/css\">\n",
       "#T_1cb9c_row0_col0, #T_1cb9c_row0_col1, #T_1cb9c_row0_col3, #T_1cb9c_row0_col4, #T_1cb9c_row0_col5, #T_1cb9c_row0_col7, #T_1cb9c_row0_col8, #T_1cb9c_row0_col12, #T_1cb9c_row0_col15, #T_1cb9c_row0_col16, #T_1cb9c_row1_col2, #T_1cb9c_row1_col6, #T_1cb9c_row1_col9, #T_1cb9c_row1_col10, #T_1cb9c_row1_col11, #T_1cb9c_row1_col13, #T_1cb9c_row1_col14 {\n",
       "  background-color: #fbb4ae;\n",
       "  color: #000000;\n",
       "}\n",
       "#T_1cb9c_row0_col2, #T_1cb9c_row0_col6, #T_1cb9c_row0_col9, #T_1cb9c_row0_col10, #T_1cb9c_row0_col11, #T_1cb9c_row0_col13, #T_1cb9c_row0_col14, #T_1cb9c_row1_col0, #T_1cb9c_row1_col1, #T_1cb9c_row1_col3, #T_1cb9c_row1_col4, #T_1cb9c_row1_col5, #T_1cb9c_row1_col7, #T_1cb9c_row1_col8, #T_1cb9c_row1_col12, #T_1cb9c_row1_col15, #T_1cb9c_row1_col16 {\n",
       "  background-color: #f2f2f2;\n",
       "  color: #000000;\n",
       "}\n",
       "</style>\n",
       "<table id=\"T_1cb9c_\">\n",
       "  <thead>\n",
       "    <tr>\n",
       "      <th class=\"index_name level0\" >initial</th>\n",
       "      <th class=\"col_heading level0 col0\" >Capt</th>\n",
       "      <th class=\"col_heading level0 col1\" >Col</th>\n",
       "      <th class=\"col_heading level0 col2\" >Countess</th>\n",
       "      <th class=\"col_heading level0 col3\" >Don</th>\n",
       "      <th class=\"col_heading level0 col4\" >Dr</th>\n",
       "      <th class=\"col_heading level0 col5\" >Jonkheer</th>\n",
       "      <th class=\"col_heading level0 col6\" >Lady</th>\n",
       "      <th class=\"col_heading level0 col7\" >Major</th>\n",
       "      <th class=\"col_heading level0 col8\" >Master</th>\n",
       "      <th class=\"col_heading level0 col9\" >Miss</th>\n",
       "      <th class=\"col_heading level0 col10\" >Mlle</th>\n",
       "      <th class=\"col_heading level0 col11\" >Mme</th>\n",
       "      <th class=\"col_heading level0 col12\" >Mr</th>\n",
       "      <th class=\"col_heading level0 col13\" >Mrs</th>\n",
       "      <th class=\"col_heading level0 col14\" >Ms</th>\n",
       "      <th class=\"col_heading level0 col15\" >Rev</th>\n",
       "      <th class=\"col_heading level0 col16\" >Sir</th>\n",
       "    </tr>\n",
       "    <tr>\n",
       "      <th class=\"index_name level0\" >Sex</th>\n",
       "      <th class=\"blank col0\" >&nbsp;</th>\n",
       "      <th class=\"blank col1\" >&nbsp;</th>\n",
       "      <th class=\"blank col2\" >&nbsp;</th>\n",
       "      <th class=\"blank col3\" >&nbsp;</th>\n",
       "      <th class=\"blank col4\" >&nbsp;</th>\n",
       "      <th class=\"blank col5\" >&nbsp;</th>\n",
       "      <th class=\"blank col6\" >&nbsp;</th>\n",
       "      <th class=\"blank col7\" >&nbsp;</th>\n",
       "      <th class=\"blank col8\" >&nbsp;</th>\n",
       "      <th class=\"blank col9\" >&nbsp;</th>\n",
       "      <th class=\"blank col10\" >&nbsp;</th>\n",
       "      <th class=\"blank col11\" >&nbsp;</th>\n",
       "      <th class=\"blank col12\" >&nbsp;</th>\n",
       "      <th class=\"blank col13\" >&nbsp;</th>\n",
       "      <th class=\"blank col14\" >&nbsp;</th>\n",
       "      <th class=\"blank col15\" >&nbsp;</th>\n",
       "      <th class=\"blank col16\" >&nbsp;</th>\n",
       "    </tr>\n",
       "  </thead>\n",
       "  <tbody>\n",
       "    <tr>\n",
       "      <th id=\"T_1cb9c_level0_row0\" class=\"row_heading level0 row0\" >female</th>\n",
       "      <td id=\"T_1cb9c_row0_col0\" class=\"data row0 col0\" >0</td>\n",
       "      <td id=\"T_1cb9c_row0_col1\" class=\"data row0 col1\" >0</td>\n",
       "      <td id=\"T_1cb9c_row0_col2\" class=\"data row0 col2\" >1</td>\n",
       "      <td id=\"T_1cb9c_row0_col3\" class=\"data row0 col3\" >0</td>\n",
       "      <td id=\"T_1cb9c_row0_col4\" class=\"data row0 col4\" >1</td>\n",
       "      <td id=\"T_1cb9c_row0_col5\" class=\"data row0 col5\" >0</td>\n",
       "      <td id=\"T_1cb9c_row0_col6\" class=\"data row0 col6\" >1</td>\n",
       "      <td id=\"T_1cb9c_row0_col7\" class=\"data row0 col7\" >0</td>\n",
       "      <td id=\"T_1cb9c_row0_col8\" class=\"data row0 col8\" >0</td>\n",
       "      <td id=\"T_1cb9c_row0_col9\" class=\"data row0 col9\" >182</td>\n",
       "      <td id=\"T_1cb9c_row0_col10\" class=\"data row0 col10\" >2</td>\n",
       "      <td id=\"T_1cb9c_row0_col11\" class=\"data row0 col11\" >1</td>\n",
       "      <td id=\"T_1cb9c_row0_col12\" class=\"data row0 col12\" >0</td>\n",
       "      <td id=\"T_1cb9c_row0_col13\" class=\"data row0 col13\" >125</td>\n",
       "      <td id=\"T_1cb9c_row0_col14\" class=\"data row0 col14\" >1</td>\n",
       "      <td id=\"T_1cb9c_row0_col15\" class=\"data row0 col15\" >0</td>\n",
       "      <td id=\"T_1cb9c_row0_col16\" class=\"data row0 col16\" >0</td>\n",
       "    </tr>\n",
       "    <tr>\n",
       "      <th id=\"T_1cb9c_level0_row1\" class=\"row_heading level0 row1\" >male</th>\n",
       "      <td id=\"T_1cb9c_row1_col0\" class=\"data row1 col0\" >1</td>\n",
       "      <td id=\"T_1cb9c_row1_col1\" class=\"data row1 col1\" >2</td>\n",
       "      <td id=\"T_1cb9c_row1_col2\" class=\"data row1 col2\" >0</td>\n",
       "      <td id=\"T_1cb9c_row1_col3\" class=\"data row1 col3\" >1</td>\n",
       "      <td id=\"T_1cb9c_row1_col4\" class=\"data row1 col4\" >6</td>\n",
       "      <td id=\"T_1cb9c_row1_col5\" class=\"data row1 col5\" >1</td>\n",
       "      <td id=\"T_1cb9c_row1_col6\" class=\"data row1 col6\" >0</td>\n",
       "      <td id=\"T_1cb9c_row1_col7\" class=\"data row1 col7\" >2</td>\n",
       "      <td id=\"T_1cb9c_row1_col8\" class=\"data row1 col8\" >40</td>\n",
       "      <td id=\"T_1cb9c_row1_col9\" class=\"data row1 col9\" >0</td>\n",
       "      <td id=\"T_1cb9c_row1_col10\" class=\"data row1 col10\" >0</td>\n",
       "      <td id=\"T_1cb9c_row1_col11\" class=\"data row1 col11\" >0</td>\n",
       "      <td id=\"T_1cb9c_row1_col12\" class=\"data row1 col12\" >517</td>\n",
       "      <td id=\"T_1cb9c_row1_col13\" class=\"data row1 col13\" >0</td>\n",
       "      <td id=\"T_1cb9c_row1_col14\" class=\"data row1 col14\" >0</td>\n",
       "      <td id=\"T_1cb9c_row1_col15\" class=\"data row1 col15\" >6</td>\n",
       "      <td id=\"T_1cb9c_row1_col16\" class=\"data row1 col16\" >1</td>\n",
       "    </tr>\n",
       "  </tbody>\n",
       "</table>\n"
      ],
      "text/plain": [
       "<pandas.io.formats.style.Styler at 0x2481d6c7340>"
      ]
     },
     "execution_count": 495,
     "metadata": {},
     "output_type": "execute_result"
    }
   ],
   "source": [
    "pd.crosstab(df.initial,df.Sex).T.style.background_gradient(cmap=\"Pastel1\")"
   ]
  },
  {
   "cell_type": "markdown",
   "id": "1be1ee6b",
   "metadata": {},
   "source": [
    "Now we will replace the initials with our given initials using the replace function"
   ]
  },
  {
   "cell_type": "code",
   "execution_count": 496,
   "id": "0bf6e915",
   "metadata": {},
   "outputs": [],
   "source": [
    "df['initial'].replace(['Capt','Col','Countess','Don','Dr','Jonkheer','Lady','Major','Master','Miss','Mlle','Mme','Mr','Mrs','Ms','Rev','Sir'],['Mr','Mr','Mrs','Mr','Mr','Other','Mrs','Mr','Master','Miss','Mrs','Mrs','Mr','Mrs','Mrs','Other','Mr'],inplace=True)"
   ]
  },
  {
   "cell_type": "code",
   "execution_count": 497,
   "id": "8d7ebe02",
   "metadata": {},
   "outputs": [
    {
     "data": {
      "text/plain": [
       "array(['Mr', 'Mrs', 'Miss', 'Master', 'Other'], dtype=object)"
      ]
     },
     "execution_count": 497,
     "metadata": {},
     "output_type": "execute_result"
    }
   ],
   "source": [
    "df[\"initial\"].unique()   #succesfully replaced"
   ]
  },
  {
   "cell_type": "code",
   "execution_count": 498,
   "id": "34a1b96a",
   "metadata": {},
   "outputs": [
    {
     "data": {
      "text/plain": [
       "initial\n",
       "Master     4.574167\n",
       "Miss      21.773973\n",
       "Mr        32.862530\n",
       "Mrs       35.596491\n",
       "Other     42.428571\n",
       "Name: Age, dtype: float64"
      ]
     },
     "execution_count": 498,
     "metadata": {},
     "output_type": "execute_result"
    }
   ],
   "source": [
    "df.groupby('initial')['Age'].mean()"
   ]
  },
  {
   "cell_type": "markdown",
   "id": "cbab1a31",
   "metadata": {},
   "source": [
    "Master is basically child and teens so their mean age lie between 4.5 wich is aprrox 5 years. Miss has a mean of 22 . Mr. has a mean of 33 and Mrs has a 35 so we will replace the values where age is missing with a mean"
   ]
  },
  {
   "cell_type": "code",
   "execution_count": 499,
   "id": "5419bb5e",
   "metadata": {},
   "outputs": [
    {
     "data": {
      "text/plain": [
       "True"
      ]
     },
     "execution_count": 499,
     "metadata": {},
     "output_type": "execute_result"
    }
   ],
   "source": [
    "df.Age.isnull().any()"
   ]
  },
  {
   "cell_type": "markdown",
   "id": "0e1be429",
   "metadata": {},
   "source": [
    "There are null values present in the Age column"
   ]
  },
  {
   "cell_type": "code",
   "execution_count": 500,
   "id": "aba2c2fd",
   "metadata": {},
   "outputs": [
    {
     "data": {
      "text/plain": [
       "PassengerId      0\n",
       "Survived         0\n",
       "Pclass           0\n",
       "Name             0\n",
       "Sex              0\n",
       "Age            177\n",
       "SibSp            0\n",
       "Parch            0\n",
       "Ticket           0\n",
       "Fare             0\n",
       "Cabin          687\n",
       "Embarked         2\n",
       "initial          0\n",
       "dtype: int64"
      ]
     },
     "execution_count": 500,
     "metadata": {},
     "output_type": "execute_result"
    }
   ],
   "source": [
    "df.isna().sum()"
   ]
  },
  {
   "cell_type": "code",
   "execution_count": 501,
   "id": "c8fdb416",
   "metadata": {},
   "outputs": [],
   "source": [
    "df.loc[(df.Age.isnull())&(df.initial=='Mr'),'Age']=33\n",
    "\n",
    "df.loc[(df.Age.isnull())&(df.initial=='Mrs'),'Age']=35\n",
    "\n",
    "df.loc[(df.Age.isnull())&(df.initial=='Master'),'Age']=5\n",
    "\n",
    "df.loc[(df.Age.isnull())&(df.initial=='Miss'),'Age']=22\n",
    "\n",
    "df.loc[(df.Age.isnull())&(df.initial=='Other'),'Age']=45"
   ]
  },
  {
   "cell_type": "markdown",
   "id": "e644355a",
   "metadata": {},
   "source": [
    "We are replacing the age and initials with the mean ages wherever null values are present"
   ]
  },
  {
   "cell_type": "code",
   "execution_count": 502,
   "id": "81e4a67d",
   "metadata": {},
   "outputs": [
    {
     "data": {
      "text/plain": [
       "PassengerId      0\n",
       "Survived         0\n",
       "Pclass           0\n",
       "Name             0\n",
       "Sex              0\n",
       "Age              0\n",
       "SibSp            0\n",
       "Parch            0\n",
       "Ticket           0\n",
       "Fare             0\n",
       "Cabin          687\n",
       "Embarked         2\n",
       "initial          0\n",
       "dtype: int64"
      ]
     },
     "execution_count": 502,
     "metadata": {},
     "output_type": "execute_result"
    }
   ],
   "source": [
    "df.isna().sum()"
   ]
  },
  {
   "cell_type": "code",
   "execution_count": 503,
   "id": "f43cb9c5",
   "metadata": {},
   "outputs": [
    {
     "data": {
      "text/plain": [
       "<AxesSubplot:ylabel='Frequency'>"
      ]
     },
     "execution_count": 503,
     "metadata": {},
     "output_type": "execute_result"
    },
    {
     "data": {
      "image/png": "[encoded data removed]",
      "text/plain": [
       "<Figure size 720x360 with 2 Axes>"
      ]
     },
     "metadata": {
      "needs_background": "light"
     },
     "output_type": "display_data"
    }
   ],
   "source": [
    "f,ax=plt.subplots(1,2,figsize=(10,5))\n",
    "\n",
    "df[df['Survived']==0].Age.plot.hist(ax=ax[0], bins=25, edgecolor='black', color='blue')\n",
    "\n",
    "df[df['Survived']==1].Age.plot.hist(ax=ax[1], bins=25, edgecolor='black', color='green')"
   ]
  },
  {
   "cell_type": "markdown",
   "id": "ad36a685",
   "metadata": {},
   "source": [
    "We can see the age group between  30-40 did not survive and on te other hand 20-40 age group has survived the most too. This deduces that we had most passengers in tbetween age group 20-40"
   ]
  },
  {
   "cell_type": "code",
   "execution_count": 504,
   "id": "41ffd719",
   "metadata": {},
   "outputs": [
    {
     "data": {
      "image/png": "[encoded data removed]",
      "text/plain": [
       "<Figure size 1800x360 with 5 Axes>"
      ]
     },
     "metadata": {
      "needs_background": "light"
     },
     "output_type": "display_data"
    }
   ],
   "source": [
    "sns.factorplot('Pclass','Survived',col='initial',data=df)\n",
    "plt.show()"
   ]
  },
  {
   "cell_type": "markdown",
   "id": "f4048c72",
   "metadata": {},
   "source": [
    "Mr from 1st class survived the most same for mrs and miss and master. This shows 1st class was the luckiest one or priotized more wehereas 3rd class was not"
   ]
  },
  {
   "cell_type": "code",
   "execution_count": 505,
   "id": "b86829ec",
   "metadata": {},
   "outputs": [
    {
     "name": "stdout",
     "output_type": "stream",
     "text": [
      "<class 'pandas.core.frame.DataFrame'>\n",
      "RangeIndex: 891 entries, 0 to 890\n",
      "Data columns (total 13 columns):\n",
      " #   Column       Non-Null Count  Dtype  \n",
      "---  ------       --------------  -----  \n",
      " 0   PassengerId  891 non-null    int64  \n",
      " 1   Survived     891 non-null    int64  \n",
      " 2   Pclass       891 non-null    int64  \n",
      " 3   Name         891 non-null    object \n",
      " 4   Sex          891 non-null    object \n",
      " 5   Age          891 non-null    float64\n",
      " 6   SibSp        891 non-null    int64  \n",
      " 7   Parch        891 non-null    int64  \n",
      " 8   Ticket       891 non-null    object \n",
      " 9   Fare         891 non-null    float64\n",
      " 10  Cabin        204 non-null    object \n",
      " 11  Embarked     889 non-null    object \n",
      " 12  initial      891 non-null    object \n",
      "dtypes: float64(2), int64(5), object(6)\n",
      "memory usage: 90.6+ KB\n"
     ]
    }
   ],
   "source": [
    "df.info()"
   ]
  },
  {
   "cell_type": "markdown",
   "id": "11419d57",
   "metadata": {},
   "source": [
    "So now our dataset is free of any null values"
   ]
  },
  {
   "cell_type": "markdown",
   "id": "5e8ecec8",
   "metadata": {},
   "source": [
    "Now let us see where from passengers embarked on their journey on titanic"
   ]
  },
  {
   "cell_type": "code",
   "execution_count": 506,
   "id": "7ae77baf",
   "metadata": {},
   "outputs": [
    {
     "data": {
      "text/plain": [
       "0      S\n",
       "1      C\n",
       "2      S\n",
       "3      S\n",
       "4      S\n",
       "      ..\n",
       "886    S\n",
       "887    S\n",
       "888    S\n",
       "889    C\n",
       "890    Q\n",
       "Name: Embarked, Length: 891, dtype: object"
      ]
     },
     "execution_count": 506,
     "metadata": {},
     "output_type": "execute_result"
    }
   ],
   "source": [
    "df[\"Embarked\"]"
   ]
  },
  {
   "cell_type": "code",
   "execution_count": 507,
   "id": "9b326cb8",
   "metadata": {},
   "outputs": [
    {
     "data": {
      "text/plain": [
       "array(['S', 'C', 'Q', nan], dtype=object)"
      ]
     },
     "execution_count": 507,
     "metadata": {},
     "output_type": "execute_result"
    }
   ],
   "source": [
    "df[\"Embarked\"].unique()"
   ]
  },
  {
   "cell_type": "markdown",
   "id": "24e8e8f5",
   "metadata": {},
   "source": [
    "So there are S,C,Q three values and they are Object Data type"
   ]
  },
  {
   "cell_type": "markdown",
   "id": "78e758bb",
   "metadata": {},
   "source": [
    "We have to change them to Numeric type to train our model we do that by either One Hot Encoding or Label Encoding. Here we will go with one hot encoding as there are 3 values"
   ]
  },
  {
   "cell_type": "code",
   "execution_count": 508,
   "id": "55459b91",
   "metadata": {},
   "outputs": [],
   "source": [
    "ports = pd.get_dummies(df.Embarked, prefix = 'Embarked')"
   ]
  },
  {
   "cell_type": "code",
   "execution_count": 509,
   "id": "40bc6d8e",
   "metadata": {},
   "outputs": [],
   "source": [
    "initials = pd.get_dummies(df.initial, prefix = 'initals')"
   ]
  },
  {
   "cell_type": "code",
   "execution_count": 510,
   "id": "8802e979",
   "metadata": {},
   "outputs": [
    {
     "data": {
      "text/html": [
       "<div>\n",
       "<style scoped>\n",
       "    .dataframe tbody tr th:only-of-type {\n",
       "        vertical-align: middle;\n",
       "    }\n",
       "\n",
       "    .dataframe tbody tr th {\n",
       "        vertical-align: top;\n",
       "    }\n",
       "\n",
       "    .dataframe thead th {\n",
       "        text-align: right;\n",
       "    }\n",
       "</style>\n",
       "<table border=\"1\" class=\"dataframe\">\n",
       "  <thead>\n",
       "    <tr style=\"text-align: right;\">\n",
       "      <th></th>\n",
       "      <th>Embarked_C</th>\n",
       "      <th>Embarked_Q</th>\n",
       "      <th>Embarked_S</th>\n",
       "    </tr>\n",
       "  </thead>\n",
       "  <tbody>\n",
       "    <tr>\n",
       "      <th>0</th>\n",
       "      <td>0</td>\n",
       "      <td>0</td>\n",
       "      <td>1</td>\n",
       "    </tr>\n",
       "    <tr>\n",
       "      <th>1</th>\n",
       "      <td>1</td>\n",
       "      <td>0</td>\n",
       "      <td>0</td>\n",
       "    </tr>\n",
       "    <tr>\n",
       "      <th>2</th>\n",
       "      <td>0</td>\n",
       "      <td>0</td>\n",
       "      <td>1</td>\n",
       "    </tr>\n",
       "    <tr>\n",
       "      <th>3</th>\n",
       "      <td>0</td>\n",
       "      <td>0</td>\n",
       "      <td>1</td>\n",
       "    </tr>\n",
       "    <tr>\n",
       "      <th>4</th>\n",
       "      <td>0</td>\n",
       "      <td>0</td>\n",
       "      <td>1</td>\n",
       "    </tr>\n",
       "    <tr>\n",
       "      <th>...</th>\n",
       "      <td>...</td>\n",
       "      <td>...</td>\n",
       "      <td>...</td>\n",
       "    </tr>\n",
       "    <tr>\n",
       "      <th>886</th>\n",
       "      <td>0</td>\n",
       "      <td>0</td>\n",
       "      <td>1</td>\n",
       "    </tr>\n",
       "    <tr>\n",
       "      <th>887</th>\n",
       "      <td>0</td>\n",
       "      <td>0</td>\n",
       "      <td>1</td>\n",
       "    </tr>\n",
       "    <tr>\n",
       "      <th>888</th>\n",
       "      <td>0</td>\n",
       "      <td>0</td>\n",
       "      <td>1</td>\n",
       "    </tr>\n",
       "    <tr>\n",
       "      <th>889</th>\n",
       "      <td>1</td>\n",
       "      <td>0</td>\n",
       "      <td>0</td>\n",
       "    </tr>\n",
       "    <tr>\n",
       "      <th>890</th>\n",
       "      <td>0</td>\n",
       "      <td>1</td>\n",
       "      <td>0</td>\n",
       "    </tr>\n",
       "  </tbody>\n",
       "</table>\n",
       "<p>891 rows × 3 columns</p>\n",
       "</div>"
      ],
      "text/plain": [
       "     Embarked_C  Embarked_Q  Embarked_S\n",
       "0             0           0           1\n",
       "1             1           0           0\n",
       "2             0           0           1\n",
       "3             0           0           1\n",
       "4             0           0           1\n",
       "..          ...         ...         ...\n",
       "886           0           0           1\n",
       "887           0           0           1\n",
       "888           0           0           1\n",
       "889           1           0           0\n",
       "890           0           1           0\n",
       "\n",
       "[891 rows x 3 columns]"
      ]
     },
     "execution_count": 510,
     "metadata": {},
     "output_type": "execute_result"
    }
   ],
   "source": [
    "ports"
   ]
  },
  {
   "cell_type": "code",
   "execution_count": 511,
   "id": "5327ee7c",
   "metadata": {},
   "outputs": [
    {
     "data": {
      "text/html": [
       "<div>\n",
       "<style scoped>\n",
       "    .dataframe tbody tr th:only-of-type {\n",
       "        vertical-align: middle;\n",
       "    }\n",
       "\n",
       "    .dataframe tbody tr th {\n",
       "        vertical-align: top;\n",
       "    }\n",
       "\n",
       "    .dataframe thead th {\n",
       "        text-align: right;\n",
       "    }\n",
       "</style>\n",
       "<table border=\"1\" class=\"dataframe\">\n",
       "  <thead>\n",
       "    <tr style=\"text-align: right;\">\n",
       "      <th></th>\n",
       "      <th>initals_Master</th>\n",
       "      <th>initals_Miss</th>\n",
       "      <th>initals_Mr</th>\n",
       "      <th>initals_Mrs</th>\n",
       "      <th>initals_Other</th>\n",
       "    </tr>\n",
       "  </thead>\n",
       "  <tbody>\n",
       "    <tr>\n",
       "      <th>0</th>\n",
       "      <td>0</td>\n",
       "      <td>0</td>\n",
       "      <td>1</td>\n",
       "      <td>0</td>\n",
       "      <td>0</td>\n",
       "    </tr>\n",
       "    <tr>\n",
       "      <th>1</th>\n",
       "      <td>0</td>\n",
       "      <td>0</td>\n",
       "      <td>0</td>\n",
       "      <td>1</td>\n",
       "      <td>0</td>\n",
       "    </tr>\n",
       "    <tr>\n",
       "      <th>2</th>\n",
       "      <td>0</td>\n",
       "      <td>1</td>\n",
       "      <td>0</td>\n",
       "      <td>0</td>\n",
       "      <td>0</td>\n",
       "    </tr>\n",
       "    <tr>\n",
       "      <th>3</th>\n",
       "      <td>0</td>\n",
       "      <td>0</td>\n",
       "      <td>0</td>\n",
       "      <td>1</td>\n",
       "      <td>0</td>\n",
       "    </tr>\n",
       "    <tr>\n",
       "      <th>4</th>\n",
       "      <td>0</td>\n",
       "      <td>0</td>\n",
       "      <td>1</td>\n",
       "      <td>0</td>\n",
       "      <td>0</td>\n",
       "    </tr>\n",
       "    <tr>\n",
       "      <th>...</th>\n",
       "      <td>...</td>\n",
       "      <td>...</td>\n",
       "      <td>...</td>\n",
       "      <td>...</td>\n",
       "      <td>...</td>\n",
       "    </tr>\n",
       "    <tr>\n",
       "      <th>886</th>\n",
       "      <td>0</td>\n",
       "      <td>0</td>\n",
       "      <td>0</td>\n",
       "      <td>0</td>\n",
       "      <td>1</td>\n",
       "    </tr>\n",
       "    <tr>\n",
       "      <th>887</th>\n",
       "      <td>0</td>\n",
       "      <td>1</td>\n",
       "      <td>0</td>\n",
       "      <td>0</td>\n",
       "      <td>0</td>\n",
       "    </tr>\n",
       "    <tr>\n",
       "      <th>888</th>\n",
       "      <td>0</td>\n",
       "      <td>1</td>\n",
       "      <td>0</td>\n",
       "      <td>0</td>\n",
       "      <td>0</td>\n",
       "    </tr>\n",
       "    <tr>\n",
       "      <th>889</th>\n",
       "      <td>0</td>\n",
       "      <td>0</td>\n",
       "      <td>1</td>\n",
       "      <td>0</td>\n",
       "      <td>0</td>\n",
       "    </tr>\n",
       "    <tr>\n",
       "      <th>890</th>\n",
       "      <td>0</td>\n",
       "      <td>0</td>\n",
       "      <td>1</td>\n",
       "      <td>0</td>\n",
       "      <td>0</td>\n",
       "    </tr>\n",
       "  </tbody>\n",
       "</table>\n",
       "<p>891 rows × 5 columns</p>\n",
       "</div>"
      ],
      "text/plain": [
       "     initals_Master  initals_Miss  initals_Mr  initals_Mrs  initals_Other\n",
       "0                 0             0           1            0              0\n",
       "1                 0             0           0            1              0\n",
       "2                 0             1           0            0              0\n",
       "3                 0             0           0            1              0\n",
       "4                 0             0           1            0              0\n",
       "..              ...           ...         ...          ...            ...\n",
       "886               0             0           0            0              1\n",
       "887               0             1           0            0              0\n",
       "888               0             1           0            0              0\n",
       "889               0             0           1            0              0\n",
       "890               0             0           1            0              0\n",
       "\n",
       "[891 rows x 5 columns]"
      ]
     },
     "execution_count": 511,
     "metadata": {},
     "output_type": "execute_result"
    }
   ],
   "source": [
    "initials"
   ]
  },
  {
   "cell_type": "code",
   "execution_count": 512,
   "id": "422f2ff3",
   "metadata": {},
   "outputs": [],
   "source": [
    "df = df.join(ports)\n"
   ]
  },
  {
   "cell_type": "markdown",
   "id": "ade9f33e",
   "metadata": {},
   "source": [
    "We joined this port data to our dataset"
   ]
  },
  {
   "cell_type": "code",
   "execution_count": 513,
   "id": "94b79171",
   "metadata": {},
   "outputs": [],
   "source": [
    "df = df.join(initials)"
   ]
  },
  {
   "cell_type": "code",
   "execution_count": 514,
   "id": "193bf76b",
   "metadata": {},
   "outputs": [
    {
     "data": {
      "text/html": [
       "<div>\n",
       "<style scoped>\n",
       "    .dataframe tbody tr th:only-of-type {\n",
       "        vertical-align: middle;\n",
       "    }\n",
       "\n",
       "    .dataframe tbody tr th {\n",
       "        vertical-align: top;\n",
       "    }\n",
       "\n",
       "    .dataframe thead th {\n",
       "        text-align: right;\n",
       "    }\n",
       "</style>\n",
       "<table border=\"1\" class=\"dataframe\">\n",
       "  <thead>\n",
       "    <tr style=\"text-align: right;\">\n",
       "      <th></th>\n",
       "      <th>PassengerId</th>\n",
       "      <th>Survived</th>\n",
       "      <th>Pclass</th>\n",
       "      <th>Name</th>\n",
       "      <th>Sex</th>\n",
       "      <th>Age</th>\n",
       "      <th>SibSp</th>\n",
       "      <th>Parch</th>\n",
       "      <th>Ticket</th>\n",
       "      <th>Fare</th>\n",
       "      <th>...</th>\n",
       "      <th>Embarked</th>\n",
       "      <th>initial</th>\n",
       "      <th>Embarked_C</th>\n",
       "      <th>Embarked_Q</th>\n",
       "      <th>Embarked_S</th>\n",
       "      <th>initals_Master</th>\n",
       "      <th>initals_Miss</th>\n",
       "      <th>initals_Mr</th>\n",
       "      <th>initals_Mrs</th>\n",
       "      <th>initals_Other</th>\n",
       "    </tr>\n",
       "  </thead>\n",
       "  <tbody>\n",
       "    <tr>\n",
       "      <th>0</th>\n",
       "      <td>1</td>\n",
       "      <td>0</td>\n",
       "      <td>3</td>\n",
       "      <td>Braund, Mr. Owen Harris</td>\n",
       "      <td>male</td>\n",
       "      <td>22.0</td>\n",
       "      <td>1</td>\n",
       "      <td>0</td>\n",
       "      <td>A/5 21171</td>\n",
       "      <td>7.2500</td>\n",
       "      <td>...</td>\n",
       "      <td>S</td>\n",
       "      <td>Mr</td>\n",
       "      <td>0</td>\n",
       "      <td>0</td>\n",
       "      <td>1</td>\n",
       "      <td>0</td>\n",
       "      <td>0</td>\n",
       "      <td>1</td>\n",
       "      <td>0</td>\n",
       "      <td>0</td>\n",
       "    </tr>\n",
       "    <tr>\n",
       "      <th>1</th>\n",
       "      <td>2</td>\n",
       "      <td>1</td>\n",
       "      <td>1</td>\n",
       "      <td>Cumings, Mrs. John Bradley (Florence Briggs Th...</td>\n",
       "      <td>female</td>\n",
       "      <td>38.0</td>\n",
       "      <td>1</td>\n",
       "      <td>0</td>\n",
       "      <td>PC 17599</td>\n",
       "      <td>71.2833</td>\n",
       "      <td>...</td>\n",
       "      <td>C</td>\n",
       "      <td>Mrs</td>\n",
       "      <td>1</td>\n",
       "      <td>0</td>\n",
       "      <td>0</td>\n",
       "      <td>0</td>\n",
       "      <td>0</td>\n",
       "      <td>0</td>\n",
       "      <td>1</td>\n",
       "      <td>0</td>\n",
       "    </tr>\n",
       "    <tr>\n",
       "      <th>2</th>\n",
       "      <td>3</td>\n",
       "      <td>1</td>\n",
       "      <td>3</td>\n",
       "      <td>Heikkinen, Miss. Laina</td>\n",
       "      <td>female</td>\n",
       "      <td>26.0</td>\n",
       "      <td>0</td>\n",
       "      <td>0</td>\n",
       "      <td>STON/O2. 3101282</td>\n",
       "      <td>7.9250</td>\n",
       "      <td>...</td>\n",
       "      <td>S</td>\n",
       "      <td>Miss</td>\n",
       "      <td>0</td>\n",
       "      <td>0</td>\n",
       "      <td>1</td>\n",
       "      <td>0</td>\n",
       "      <td>1</td>\n",
       "      <td>0</td>\n",
       "      <td>0</td>\n",
       "      <td>0</td>\n",
       "    </tr>\n",
       "    <tr>\n",
       "      <th>3</th>\n",
       "      <td>4</td>\n",
       "      <td>1</td>\n",
       "      <td>1</td>\n",
       "      <td>Futrelle, Mrs. Jacques Heath (Lily May Peel)</td>\n",
       "      <td>female</td>\n",
       "      <td>35.0</td>\n",
       "      <td>1</td>\n",
       "      <td>0</td>\n",
       "      <td>113803</td>\n",
       "      <td>53.1000</td>\n",
       "      <td>...</td>\n",
       "      <td>S</td>\n",
       "      <td>Mrs</td>\n",
       "      <td>0</td>\n",
       "      <td>0</td>\n",
       "      <td>1</td>\n",
       "      <td>0</td>\n",
       "      <td>0</td>\n",
       "      <td>0</td>\n",
       "      <td>1</td>\n",
       "      <td>0</td>\n",
       "    </tr>\n",
       "    <tr>\n",
       "      <th>4</th>\n",
       "      <td>5</td>\n",
       "      <td>0</td>\n",
       "      <td>3</td>\n",
       "      <td>Allen, Mr. William Henry</td>\n",
       "      <td>male</td>\n",
       "      <td>35.0</td>\n",
       "      <td>0</td>\n",
       "      <td>0</td>\n",
       "      <td>373450</td>\n",
       "      <td>8.0500</td>\n",
       "      <td>...</td>\n",
       "      <td>S</td>\n",
       "      <td>Mr</td>\n",
       "      <td>0</td>\n",
       "      <td>0</td>\n",
       "      <td>1</td>\n",
       "      <td>0</td>\n",
       "      <td>0</td>\n",
       "      <td>1</td>\n",
       "      <td>0</td>\n",
       "      <td>0</td>\n",
       "    </tr>\n",
       "  </tbody>\n",
       "</table>\n",
       "<p>5 rows × 21 columns</p>\n",
       "</div>"
      ],
      "text/plain": [
       "   PassengerId  Survived  Pclass  \\\n",
       "0            1         0       3   \n",
       "1            2         1       1   \n",
       "2            3         1       3   \n",
       "3            4         1       1   \n",
       "4            5         0       3   \n",
       "\n",
       "                                                Name     Sex   Age  SibSp  \\\n",
       "0                            Braund, Mr. Owen Harris    male  22.0      1   \n",
       "1  Cumings, Mrs. John Bradley (Florence Briggs Th...  female  38.0      1   \n",
       "2                             Heikkinen, Miss. Laina  female  26.0      0   \n",
       "3       Futrelle, Mrs. Jacques Heath (Lily May Peel)  female  35.0      1   \n",
       "4                           Allen, Mr. William Henry    male  35.0      0   \n",
       "\n",
       "   Parch            Ticket     Fare  ... Embarked initial Embarked_C  \\\n",
       "0      0         A/5 21171   7.2500  ...        S      Mr          0   \n",
       "1      0          PC 17599  71.2833  ...        C     Mrs          1   \n",
       "2      0  STON/O2. 3101282   7.9250  ...        S    Miss          0   \n",
       "3      0            113803  53.1000  ...        S     Mrs          0   \n",
       "4      0            373450   8.0500  ...        S      Mr          0   \n",
       "\n",
       "   Embarked_Q  Embarked_S  initals_Master  initals_Miss  initals_Mr  \\\n",
       "0           0           1               0             0           1   \n",
       "1           0           0               0             0           0   \n",
       "2           0           1               0             1           0   \n",
       "3           0           1               0             0           0   \n",
       "4           0           1               0             0           1   \n",
       "\n",
       "   initals_Mrs  initals_Other  \n",
       "0            0              0  \n",
       "1            1              0  \n",
       "2            0              0  \n",
       "3            1              0  \n",
       "4            0              0  \n",
       "\n",
       "[5 rows x 21 columns]"
      ]
     },
     "execution_count": 514,
     "metadata": {},
     "output_type": "execute_result"
    }
   ],
   "source": [
    "df.head(5)"
   ]
  },
  {
   "cell_type": "code",
   "execution_count": 515,
   "id": "b29c7891",
   "metadata": {},
   "outputs": [],
   "source": [
    "df.Sex = df.Sex.map({'female':0, 'male':1}) # We changed male to 1 and female to 0 as numeric values"
   ]
  },
  {
   "cell_type": "code",
   "execution_count": 516,
   "id": "544b99e0",
   "metadata": {},
   "outputs": [
    {
     "data": {
      "text/html": [
       "<div>\n",
       "<style scoped>\n",
       "    .dataframe tbody tr th:only-of-type {\n",
       "        vertical-align: middle;\n",
       "    }\n",
       "\n",
       "    .dataframe tbody tr th {\n",
       "        vertical-align: top;\n",
       "    }\n",
       "\n",
       "    .dataframe thead th {\n",
       "        text-align: right;\n",
       "    }\n",
       "</style>\n",
       "<table border=\"1\" class=\"dataframe\">\n",
       "  <thead>\n",
       "    <tr style=\"text-align: right;\">\n",
       "      <th></th>\n",
       "      <th>PassengerId</th>\n",
       "      <th>Survived</th>\n",
       "      <th>Pclass</th>\n",
       "      <th>Name</th>\n",
       "      <th>Sex</th>\n",
       "      <th>Age</th>\n",
       "      <th>SibSp</th>\n",
       "      <th>Parch</th>\n",
       "      <th>Ticket</th>\n",
       "      <th>Fare</th>\n",
       "      <th>...</th>\n",
       "      <th>Embarked</th>\n",
       "      <th>initial</th>\n",
       "      <th>Embarked_C</th>\n",
       "      <th>Embarked_Q</th>\n",
       "      <th>Embarked_S</th>\n",
       "      <th>initals_Master</th>\n",
       "      <th>initals_Miss</th>\n",
       "      <th>initals_Mr</th>\n",
       "      <th>initals_Mrs</th>\n",
       "      <th>initals_Other</th>\n",
       "    </tr>\n",
       "  </thead>\n",
       "  <tbody>\n",
       "    <tr>\n",
       "      <th>0</th>\n",
       "      <td>1</td>\n",
       "      <td>0</td>\n",
       "      <td>3</td>\n",
       "      <td>Braund, Mr. Owen Harris</td>\n",
       "      <td>1</td>\n",
       "      <td>22.0</td>\n",
       "      <td>1</td>\n",
       "      <td>0</td>\n",
       "      <td>A/5 21171</td>\n",
       "      <td>7.2500</td>\n",
       "      <td>...</td>\n",
       "      <td>S</td>\n",
       "      <td>Mr</td>\n",
       "      <td>0</td>\n",
       "      <td>0</td>\n",
       "      <td>1</td>\n",
       "      <td>0</td>\n",
       "      <td>0</td>\n",
       "      <td>1</td>\n",
       "      <td>0</td>\n",
       "      <td>0</td>\n",
       "    </tr>\n",
       "    <tr>\n",
       "      <th>1</th>\n",
       "      <td>2</td>\n",
       "      <td>1</td>\n",
       "      <td>1</td>\n",
       "      <td>Cumings, Mrs. John Bradley (Florence Briggs Th...</td>\n",
       "      <td>0</td>\n",
       "      <td>38.0</td>\n",
       "      <td>1</td>\n",
       "      <td>0</td>\n",
       "      <td>PC 17599</td>\n",
       "      <td>71.2833</td>\n",
       "      <td>...</td>\n",
       "      <td>C</td>\n",
       "      <td>Mrs</td>\n",
       "      <td>1</td>\n",
       "      <td>0</td>\n",
       "      <td>0</td>\n",
       "      <td>0</td>\n",
       "      <td>0</td>\n",
       "      <td>0</td>\n",
       "      <td>1</td>\n",
       "      <td>0</td>\n",
       "    </tr>\n",
       "    <tr>\n",
       "      <th>2</th>\n",
       "      <td>3</td>\n",
       "      <td>1</td>\n",
       "      <td>3</td>\n",
       "      <td>Heikkinen, Miss. Laina</td>\n",
       "      <td>0</td>\n",
       "      <td>26.0</td>\n",
       "      <td>0</td>\n",
       "      <td>0</td>\n",
       "      <td>STON/O2. 3101282</td>\n",
       "      <td>7.9250</td>\n",
       "      <td>...</td>\n",
       "      <td>S</td>\n",
       "      <td>Miss</td>\n",
       "      <td>0</td>\n",
       "      <td>0</td>\n",
       "      <td>1</td>\n",
       "      <td>0</td>\n",
       "      <td>1</td>\n",
       "      <td>0</td>\n",
       "      <td>0</td>\n",
       "      <td>0</td>\n",
       "    </tr>\n",
       "    <tr>\n",
       "      <th>3</th>\n",
       "      <td>4</td>\n",
       "      <td>1</td>\n",
       "      <td>1</td>\n",
       "      <td>Futrelle, Mrs. Jacques Heath (Lily May Peel)</td>\n",
       "      <td>0</td>\n",
       "      <td>35.0</td>\n",
       "      <td>1</td>\n",
       "      <td>0</td>\n",
       "      <td>113803</td>\n",
       "      <td>53.1000</td>\n",
       "      <td>...</td>\n",
       "      <td>S</td>\n",
       "      <td>Mrs</td>\n",
       "      <td>0</td>\n",
       "      <td>0</td>\n",
       "      <td>1</td>\n",
       "      <td>0</td>\n",
       "      <td>0</td>\n",
       "      <td>0</td>\n",
       "      <td>1</td>\n",
       "      <td>0</td>\n",
       "    </tr>\n",
       "    <tr>\n",
       "      <th>4</th>\n",
       "      <td>5</td>\n",
       "      <td>0</td>\n",
       "      <td>3</td>\n",
       "      <td>Allen, Mr. William Henry</td>\n",
       "      <td>1</td>\n",
       "      <td>35.0</td>\n",
       "      <td>0</td>\n",
       "      <td>0</td>\n",
       "      <td>373450</td>\n",
       "      <td>8.0500</td>\n",
       "      <td>...</td>\n",
       "      <td>S</td>\n",
       "      <td>Mr</td>\n",
       "      <td>0</td>\n",
       "      <td>0</td>\n",
       "      <td>1</td>\n",
       "      <td>0</td>\n",
       "      <td>0</td>\n",
       "      <td>1</td>\n",
       "      <td>0</td>\n",
       "      <td>0</td>\n",
       "    </tr>\n",
       "  </tbody>\n",
       "</table>\n",
       "<p>5 rows × 21 columns</p>\n",
       "</div>"
      ],
      "text/plain": [
       "   PassengerId  Survived  Pclass  \\\n",
       "0            1         0       3   \n",
       "1            2         1       1   \n",
       "2            3         1       3   \n",
       "3            4         1       1   \n",
       "4            5         0       3   \n",
       "\n",
       "                                                Name  Sex   Age  SibSp  Parch  \\\n",
       "0                            Braund, Mr. Owen Harris    1  22.0      1      0   \n",
       "1  Cumings, Mrs. John Bradley (Florence Briggs Th...    0  38.0      1      0   \n",
       "2                             Heikkinen, Miss. Laina    0  26.0      0      0   \n",
       "3       Futrelle, Mrs. Jacques Heath (Lily May Peel)    0  35.0      1      0   \n",
       "4                           Allen, Mr. William Henry    1  35.0      0      0   \n",
       "\n",
       "             Ticket     Fare  ... Embarked initial Embarked_C  Embarked_Q  \\\n",
       "0         A/5 21171   7.2500  ...        S      Mr          0           0   \n",
       "1          PC 17599  71.2833  ...        C     Mrs          1           0   \n",
       "2  STON/O2. 3101282   7.9250  ...        S    Miss          0           0   \n",
       "3            113803  53.1000  ...        S     Mrs          0           0   \n",
       "4            373450   8.0500  ...        S      Mr          0           0   \n",
       "\n",
       "   Embarked_S  initals_Master  initals_Miss  initals_Mr  initals_Mrs  \\\n",
       "0           1               0             0           1            0   \n",
       "1           0               0             0           0            1   \n",
       "2           1               0             1           0            0   \n",
       "3           1               0             0           0            1   \n",
       "4           1               0             0           1            0   \n",
       "\n",
       "   initals_Other  \n",
       "0              0  \n",
       "1              0  \n",
       "2              0  \n",
       "3              0  \n",
       "4              0  \n",
       "\n",
       "[5 rows x 21 columns]"
      ]
     },
     "execution_count": 516,
     "metadata": {},
     "output_type": "execute_result"
    }
   ],
   "source": [
    "df.head(5)"
   ]
  },
  {
   "cell_type": "markdown",
   "id": "b81e5a0d",
   "metadata": {},
   "source": [
    "Let us drop the columns that are less important for the model training like Fare, Cabin, Ticket,PassengerId and the name"
   ]
  },
  {
   "cell_type": "code",
   "execution_count": 517,
   "id": "b9bda05d",
   "metadata": {},
   "outputs": [],
   "source": [
    "df.drop(['PassengerId','Name','Ticket', 'Cabin','Embarked'], axis=1,inplace=True)"
   ]
  },
  {
   "cell_type": "code",
   "execution_count": 518,
   "id": "5dd573f9",
   "metadata": {},
   "outputs": [
    {
     "data": {
      "text/html": [
       "<div>\n",
       "<style scoped>\n",
       "    .dataframe tbody tr th:only-of-type {\n",
       "        vertical-align: middle;\n",
       "    }\n",
       "\n",
       "    .dataframe tbody tr th {\n",
       "        vertical-align: top;\n",
       "    }\n",
       "\n",
       "    .dataframe thead th {\n",
       "        text-align: right;\n",
       "    }\n",
       "</style>\n",
       "<table border=\"1\" class=\"dataframe\">\n",
       "  <thead>\n",
       "    <tr style=\"text-align: right;\">\n",
       "      <th></th>\n",
       "      <th>Survived</th>\n",
       "      <th>Pclass</th>\n",
       "      <th>Sex</th>\n",
       "      <th>Age</th>\n",
       "      <th>SibSp</th>\n",
       "      <th>Parch</th>\n",
       "      <th>Fare</th>\n",
       "      <th>initial</th>\n",
       "      <th>Embarked_C</th>\n",
       "      <th>Embarked_Q</th>\n",
       "      <th>Embarked_S</th>\n",
       "      <th>initals_Master</th>\n",
       "      <th>initals_Miss</th>\n",
       "      <th>initals_Mr</th>\n",
       "      <th>initals_Mrs</th>\n",
       "      <th>initals_Other</th>\n",
       "    </tr>\n",
       "  </thead>\n",
       "  <tbody>\n",
       "    <tr>\n",
       "      <th>0</th>\n",
       "      <td>0</td>\n",
       "      <td>3</td>\n",
       "      <td>1</td>\n",
       "      <td>22.0</td>\n",
       "      <td>1</td>\n",
       "      <td>0</td>\n",
       "      <td>7.2500</td>\n",
       "      <td>Mr</td>\n",
       "      <td>0</td>\n",
       "      <td>0</td>\n",
       "      <td>1</td>\n",
       "      <td>0</td>\n",
       "      <td>0</td>\n",
       "      <td>1</td>\n",
       "      <td>0</td>\n",
       "      <td>0</td>\n",
       "    </tr>\n",
       "    <tr>\n",
       "      <th>1</th>\n",
       "      <td>1</td>\n",
       "      <td>1</td>\n",
       "      <td>0</td>\n",
       "      <td>38.0</td>\n",
       "      <td>1</td>\n",
       "      <td>0</td>\n",
       "      <td>71.2833</td>\n",
       "      <td>Mrs</td>\n",
       "      <td>1</td>\n",
       "      <td>0</td>\n",
       "      <td>0</td>\n",
       "      <td>0</td>\n",
       "      <td>0</td>\n",
       "      <td>0</td>\n",
       "      <td>1</td>\n",
       "      <td>0</td>\n",
       "    </tr>\n",
       "    <tr>\n",
       "      <th>2</th>\n",
       "      <td>1</td>\n",
       "      <td>3</td>\n",
       "      <td>0</td>\n",
       "      <td>26.0</td>\n",
       "      <td>0</td>\n",
       "      <td>0</td>\n",
       "      <td>7.9250</td>\n",
       "      <td>Miss</td>\n",
       "      <td>0</td>\n",
       "      <td>0</td>\n",
       "      <td>1</td>\n",
       "      <td>0</td>\n",
       "      <td>1</td>\n",
       "      <td>0</td>\n",
       "      <td>0</td>\n",
       "      <td>0</td>\n",
       "    </tr>\n",
       "    <tr>\n",
       "      <th>3</th>\n",
       "      <td>1</td>\n",
       "      <td>1</td>\n",
       "      <td>0</td>\n",
       "      <td>35.0</td>\n",
       "      <td>1</td>\n",
       "      <td>0</td>\n",
       "      <td>53.1000</td>\n",
       "      <td>Mrs</td>\n",
       "      <td>0</td>\n",
       "      <td>0</td>\n",
       "      <td>1</td>\n",
       "      <td>0</td>\n",
       "      <td>0</td>\n",
       "      <td>0</td>\n",
       "      <td>1</td>\n",
       "      <td>0</td>\n",
       "    </tr>\n",
       "    <tr>\n",
       "      <th>4</th>\n",
       "      <td>0</td>\n",
       "      <td>3</td>\n",
       "      <td>1</td>\n",
       "      <td>35.0</td>\n",
       "      <td>0</td>\n",
       "      <td>0</td>\n",
       "      <td>8.0500</td>\n",
       "      <td>Mr</td>\n",
       "      <td>0</td>\n",
       "      <td>0</td>\n",
       "      <td>1</td>\n",
       "      <td>0</td>\n",
       "      <td>0</td>\n",
       "      <td>1</td>\n",
       "      <td>0</td>\n",
       "      <td>0</td>\n",
       "    </tr>\n",
       "    <tr>\n",
       "      <th>5</th>\n",
       "      <td>0</td>\n",
       "      <td>3</td>\n",
       "      <td>1</td>\n",
       "      <td>33.0</td>\n",
       "      <td>0</td>\n",
       "      <td>0</td>\n",
       "      <td>8.4583</td>\n",
       "      <td>Mr</td>\n",
       "      <td>0</td>\n",
       "      <td>1</td>\n",
       "      <td>0</td>\n",
       "      <td>0</td>\n",
       "      <td>0</td>\n",
       "      <td>1</td>\n",
       "      <td>0</td>\n",
       "      <td>0</td>\n",
       "    </tr>\n",
       "    <tr>\n",
       "      <th>6</th>\n",
       "      <td>0</td>\n",
       "      <td>1</td>\n",
       "      <td>1</td>\n",
       "      <td>54.0</td>\n",
       "      <td>0</td>\n",
       "      <td>0</td>\n",
       "      <td>51.8625</td>\n",
       "      <td>Mr</td>\n",
       "      <td>0</td>\n",
       "      <td>0</td>\n",
       "      <td>1</td>\n",
       "      <td>0</td>\n",
       "      <td>0</td>\n",
       "      <td>1</td>\n",
       "      <td>0</td>\n",
       "      <td>0</td>\n",
       "    </tr>\n",
       "    <tr>\n",
       "      <th>7</th>\n",
       "      <td>0</td>\n",
       "      <td>3</td>\n",
       "      <td>1</td>\n",
       "      <td>2.0</td>\n",
       "      <td>3</td>\n",
       "      <td>1</td>\n",
       "      <td>21.0750</td>\n",
       "      <td>Master</td>\n",
       "      <td>0</td>\n",
       "      <td>0</td>\n",
       "      <td>1</td>\n",
       "      <td>1</td>\n",
       "      <td>0</td>\n",
       "      <td>0</td>\n",
       "      <td>0</td>\n",
       "      <td>0</td>\n",
       "    </tr>\n",
       "    <tr>\n",
       "      <th>8</th>\n",
       "      <td>1</td>\n",
       "      <td>3</td>\n",
       "      <td>0</td>\n",
       "      <td>27.0</td>\n",
       "      <td>0</td>\n",
       "      <td>2</td>\n",
       "      <td>11.1333</td>\n",
       "      <td>Mrs</td>\n",
       "      <td>0</td>\n",
       "      <td>0</td>\n",
       "      <td>1</td>\n",
       "      <td>0</td>\n",
       "      <td>0</td>\n",
       "      <td>0</td>\n",
       "      <td>1</td>\n",
       "      <td>0</td>\n",
       "    </tr>\n",
       "    <tr>\n",
       "      <th>9</th>\n",
       "      <td>1</td>\n",
       "      <td>2</td>\n",
       "      <td>0</td>\n",
       "      <td>14.0</td>\n",
       "      <td>1</td>\n",
       "      <td>0</td>\n",
       "      <td>30.0708</td>\n",
       "      <td>Mrs</td>\n",
       "      <td>1</td>\n",
       "      <td>0</td>\n",
       "      <td>0</td>\n",
       "      <td>0</td>\n",
       "      <td>0</td>\n",
       "      <td>0</td>\n",
       "      <td>1</td>\n",
       "      <td>0</td>\n",
       "    </tr>\n",
       "  </tbody>\n",
       "</table>\n",
       "</div>"
      ],
      "text/plain": [
       "   Survived  Pclass  Sex   Age  SibSp  Parch     Fare initial  Embarked_C  \\\n",
       "0         0       3    1  22.0      1      0   7.2500      Mr           0   \n",
       "1         1       1    0  38.0      1      0  71.2833     Mrs           1   \n",
       "2         1       3    0  26.0      0      0   7.9250    Miss           0   \n",
       "3         1       1    0  35.0      1      0  53.1000     Mrs           0   \n",
       "4         0       3    1  35.0      0      0   8.0500      Mr           0   \n",
       "5         0       3    1  33.0      0      0   8.4583      Mr           0   \n",
       "6         0       1    1  54.0      0      0  51.8625      Mr           0   \n",
       "7         0       3    1   2.0      3      1  21.0750  Master           0   \n",
       "8         1       3    0  27.0      0      2  11.1333     Mrs           0   \n",
       "9         1       2    0  14.0      1      0  30.0708     Mrs           1   \n",
       "\n",
       "   Embarked_Q  Embarked_S  initals_Master  initals_Miss  initals_Mr  \\\n",
       "0           0           1               0             0           1   \n",
       "1           0           0               0             0           0   \n",
       "2           0           1               0             1           0   \n",
       "3           0           1               0             0           0   \n",
       "4           0           1               0             0           1   \n",
       "5           1           0               0             0           1   \n",
       "6           0           1               0             0           1   \n",
       "7           0           1               1             0           0   \n",
       "8           0           1               0             0           0   \n",
       "9           0           0               0             0           0   \n",
       "\n",
       "   initals_Mrs  initals_Other  \n",
       "0            0              0  \n",
       "1            1              0  \n",
       "2            0              0  \n",
       "3            1              0  \n",
       "4            0              0  \n",
       "5            0              0  \n",
       "6            0              0  \n",
       "7            0              0  \n",
       "8            1              0  \n",
       "9            1              0  "
      ]
     },
     "execution_count": 518,
     "metadata": {},
     "output_type": "execute_result"
    }
   ],
   "source": [
    "df.head(10)"
   ]
  },
  {
   "cell_type": "code",
   "execution_count": 519,
   "id": "0b5746a2",
   "metadata": {},
   "outputs": [],
   "source": [
    "df.drop(['initial'], axis=1,inplace=True)"
   ]
  },
  {
   "cell_type": "code",
   "execution_count": 520,
   "id": "d9878d73",
   "metadata": {},
   "outputs": [
    {
     "data": {
      "text/html": [
       "<div>\n",
       "<style scoped>\n",
       "    .dataframe tbody tr th:only-of-type {\n",
       "        vertical-align: middle;\n",
       "    }\n",
       "\n",
       "    .dataframe tbody tr th {\n",
       "        vertical-align: top;\n",
       "    }\n",
       "\n",
       "    .dataframe thead th {\n",
       "        text-align: right;\n",
       "    }\n",
       "</style>\n",
       "<table border=\"1\" class=\"dataframe\">\n",
       "  <thead>\n",
       "    <tr style=\"text-align: right;\">\n",
       "      <th></th>\n",
       "      <th>Survived</th>\n",
       "      <th>Pclass</th>\n",
       "      <th>Sex</th>\n",
       "      <th>Age</th>\n",
       "      <th>SibSp</th>\n",
       "      <th>Parch</th>\n",
       "      <th>Fare</th>\n",
       "      <th>Embarked_C</th>\n",
       "      <th>Embarked_Q</th>\n",
       "      <th>Embarked_S</th>\n",
       "      <th>initals_Master</th>\n",
       "      <th>initals_Miss</th>\n",
       "      <th>initals_Mr</th>\n",
       "      <th>initals_Mrs</th>\n",
       "      <th>initals_Other</th>\n",
       "    </tr>\n",
       "  </thead>\n",
       "  <tbody>\n",
       "    <tr>\n",
       "      <th>0</th>\n",
       "      <td>0</td>\n",
       "      <td>3</td>\n",
       "      <td>1</td>\n",
       "      <td>22.0</td>\n",
       "      <td>1</td>\n",
       "      <td>0</td>\n",
       "      <td>7.2500</td>\n",
       "      <td>0</td>\n",
       "      <td>0</td>\n",
       "      <td>1</td>\n",
       "      <td>0</td>\n",
       "      <td>0</td>\n",
       "      <td>1</td>\n",
       "      <td>0</td>\n",
       "      <td>0</td>\n",
       "    </tr>\n",
       "    <tr>\n",
       "      <th>1</th>\n",
       "      <td>1</td>\n",
       "      <td>1</td>\n",
       "      <td>0</td>\n",
       "      <td>38.0</td>\n",
       "      <td>1</td>\n",
       "      <td>0</td>\n",
       "      <td>71.2833</td>\n",
       "      <td>1</td>\n",
       "      <td>0</td>\n",
       "      <td>0</td>\n",
       "      <td>0</td>\n",
       "      <td>0</td>\n",
       "      <td>0</td>\n",
       "      <td>1</td>\n",
       "      <td>0</td>\n",
       "    </tr>\n",
       "    <tr>\n",
       "      <th>2</th>\n",
       "      <td>1</td>\n",
       "      <td>3</td>\n",
       "      <td>0</td>\n",
       "      <td>26.0</td>\n",
       "      <td>0</td>\n",
       "      <td>0</td>\n",
       "      <td>7.9250</td>\n",
       "      <td>0</td>\n",
       "      <td>0</td>\n",
       "      <td>1</td>\n",
       "      <td>0</td>\n",
       "      <td>1</td>\n",
       "      <td>0</td>\n",
       "      <td>0</td>\n",
       "      <td>0</td>\n",
       "    </tr>\n",
       "    <tr>\n",
       "      <th>3</th>\n",
       "      <td>1</td>\n",
       "      <td>1</td>\n",
       "      <td>0</td>\n",
       "      <td>35.0</td>\n",
       "      <td>1</td>\n",
       "      <td>0</td>\n",
       "      <td>53.1000</td>\n",
       "      <td>0</td>\n",
       "      <td>0</td>\n",
       "      <td>1</td>\n",
       "      <td>0</td>\n",
       "      <td>0</td>\n",
       "      <td>0</td>\n",
       "      <td>1</td>\n",
       "      <td>0</td>\n",
       "    </tr>\n",
       "    <tr>\n",
       "      <th>4</th>\n",
       "      <td>0</td>\n",
       "      <td>3</td>\n",
       "      <td>1</td>\n",
       "      <td>35.0</td>\n",
       "      <td>0</td>\n",
       "      <td>0</td>\n",
       "      <td>8.0500</td>\n",
       "      <td>0</td>\n",
       "      <td>0</td>\n",
       "      <td>1</td>\n",
       "      <td>0</td>\n",
       "      <td>0</td>\n",
       "      <td>1</td>\n",
       "      <td>0</td>\n",
       "      <td>0</td>\n",
       "    </tr>\n",
       "    <tr>\n",
       "      <th>...</th>\n",
       "      <td>...</td>\n",
       "      <td>...</td>\n",
       "      <td>...</td>\n",
       "      <td>...</td>\n",
       "      <td>...</td>\n",
       "      <td>...</td>\n",
       "      <td>...</td>\n",
       "      <td>...</td>\n",
       "      <td>...</td>\n",
       "      <td>...</td>\n",
       "      <td>...</td>\n",
       "      <td>...</td>\n",
       "      <td>...</td>\n",
       "      <td>...</td>\n",
       "      <td>...</td>\n",
       "    </tr>\n",
       "    <tr>\n",
       "      <th>886</th>\n",
       "      <td>0</td>\n",
       "      <td>2</td>\n",
       "      <td>1</td>\n",
       "      <td>27.0</td>\n",
       "      <td>0</td>\n",
       "      <td>0</td>\n",
       "      <td>13.0000</td>\n",
       "      <td>0</td>\n",
       "      <td>0</td>\n",
       "      <td>1</td>\n",
       "      <td>0</td>\n",
       "      <td>0</td>\n",
       "      <td>0</td>\n",
       "      <td>0</td>\n",
       "      <td>1</td>\n",
       "    </tr>\n",
       "    <tr>\n",
       "      <th>887</th>\n",
       "      <td>1</td>\n",
       "      <td>1</td>\n",
       "      <td>0</td>\n",
       "      <td>19.0</td>\n",
       "      <td>0</td>\n",
       "      <td>0</td>\n",
       "      <td>30.0000</td>\n",
       "      <td>0</td>\n",
       "      <td>0</td>\n",
       "      <td>1</td>\n",
       "      <td>0</td>\n",
       "      <td>1</td>\n",
       "      <td>0</td>\n",
       "      <td>0</td>\n",
       "      <td>0</td>\n",
       "    </tr>\n",
       "    <tr>\n",
       "      <th>888</th>\n",
       "      <td>0</td>\n",
       "      <td>3</td>\n",
       "      <td>0</td>\n",
       "      <td>22.0</td>\n",
       "      <td>1</td>\n",
       "      <td>2</td>\n",
       "      <td>23.4500</td>\n",
       "      <td>0</td>\n",
       "      <td>0</td>\n",
       "      <td>1</td>\n",
       "      <td>0</td>\n",
       "      <td>1</td>\n",
       "      <td>0</td>\n",
       "      <td>0</td>\n",
       "      <td>0</td>\n",
       "    </tr>\n",
       "    <tr>\n",
       "      <th>889</th>\n",
       "      <td>1</td>\n",
       "      <td>1</td>\n",
       "      <td>1</td>\n",
       "      <td>26.0</td>\n",
       "      <td>0</td>\n",
       "      <td>0</td>\n",
       "      <td>30.0000</td>\n",
       "      <td>1</td>\n",
       "      <td>0</td>\n",
       "      <td>0</td>\n",
       "      <td>0</td>\n",
       "      <td>0</td>\n",
       "      <td>1</td>\n",
       "      <td>0</td>\n",
       "      <td>0</td>\n",
       "    </tr>\n",
       "    <tr>\n",
       "      <th>890</th>\n",
       "      <td>0</td>\n",
       "      <td>3</td>\n",
       "      <td>1</td>\n",
       "      <td>32.0</td>\n",
       "      <td>0</td>\n",
       "      <td>0</td>\n",
       "      <td>7.7500</td>\n",
       "      <td>0</td>\n",
       "      <td>1</td>\n",
       "      <td>0</td>\n",
       "      <td>0</td>\n",
       "      <td>0</td>\n",
       "      <td>1</td>\n",
       "      <td>0</td>\n",
       "      <td>0</td>\n",
       "    </tr>\n",
       "  </tbody>\n",
       "</table>\n",
       "<p>891 rows × 15 columns</p>\n",
       "</div>"
      ],
      "text/plain": [
       "     Survived  Pclass  Sex   Age  SibSp  Parch     Fare  Embarked_C  \\\n",
       "0           0       3    1  22.0      1      0   7.2500           0   \n",
       "1           1       1    0  38.0      1      0  71.2833           1   \n",
       "2           1       3    0  26.0      0      0   7.9250           0   \n",
       "3           1       1    0  35.0      1      0  53.1000           0   \n",
       "4           0       3    1  35.0      0      0   8.0500           0   \n",
       "..        ...     ...  ...   ...    ...    ...      ...         ...   \n",
       "886         0       2    1  27.0      0      0  13.0000           0   \n",
       "887         1       1    0  19.0      0      0  30.0000           0   \n",
       "888         0       3    0  22.0      1      2  23.4500           0   \n",
       "889         1       1    1  26.0      0      0  30.0000           1   \n",
       "890         0       3    1  32.0      0      0   7.7500           0   \n",
       "\n",
       "     Embarked_Q  Embarked_S  initals_Master  initals_Miss  initals_Mr  \\\n",
       "0             0           1               0             0           1   \n",
       "1             0           0               0             0           0   \n",
       "2             0           1               0             1           0   \n",
       "3             0           1               0             0           0   \n",
       "4             0           1               0             0           1   \n",
       "..          ...         ...             ...           ...         ...   \n",
       "886           0           1               0             0           0   \n",
       "887           0           1               0             1           0   \n",
       "888           0           1               0             1           0   \n",
       "889           0           0               0             0           1   \n",
       "890           1           0               0             0           1   \n",
       "\n",
       "     initals_Mrs  initals_Other  \n",
       "0              0              0  \n",
       "1              1              0  \n",
       "2              0              0  \n",
       "3              1              0  \n",
       "4              0              0  \n",
       "..           ...            ...  \n",
       "886            0              1  \n",
       "887            0              0  \n",
       "888            0              0  \n",
       "889            0              0  \n",
       "890            0              0  \n",
       "\n",
       "[891 rows x 15 columns]"
      ]
     },
     "execution_count": 520,
     "metadata": {},
     "output_type": "execute_result"
    }
   ],
   "source": [
    "df"
   ]
  },
  {
   "cell_type": "markdown",
   "id": "6176b89c",
   "metadata": {},
   "source": [
    "Our data look much more clearner now"
   ]
  },
  {
   "cell_type": "markdown",
   "id": "e7a8fc3c",
   "metadata": {},
   "source": [
    "## Training of Model "
   ]
  },
  {
   "cell_type": "code",
   "execution_count": 521,
   "id": "15fe0164",
   "metadata": {},
   "outputs": [],
   "source": [
    "best_accuracy_score={}"
   ]
  },
  {
   "cell_type": "code",
   "execution_count": 522,
   "id": "c15ba279",
   "metadata": {},
   "outputs": [
    {
     "data": {
      "text/html": [
       "<div>\n",
       "<style scoped>\n",
       "    .dataframe tbody tr th:only-of-type {\n",
       "        vertical-align: middle;\n",
       "    }\n",
       "\n",
       "    .dataframe tbody tr th {\n",
       "        vertical-align: top;\n",
       "    }\n",
       "\n",
       "    .dataframe thead th {\n",
       "        text-align: right;\n",
       "    }\n",
       "</style>\n",
       "<table border=\"1\" class=\"dataframe\">\n",
       "  <thead>\n",
       "    <tr style=\"text-align: right;\">\n",
       "      <th></th>\n",
       "      <th>Survived</th>\n",
       "      <th>Pclass</th>\n",
       "      <th>Sex</th>\n",
       "      <th>Age</th>\n",
       "      <th>SibSp</th>\n",
       "      <th>Parch</th>\n",
       "      <th>Fare</th>\n",
       "      <th>Embarked_C</th>\n",
       "      <th>Embarked_Q</th>\n",
       "      <th>Embarked_S</th>\n",
       "      <th>initals_Master</th>\n",
       "      <th>initals_Miss</th>\n",
       "      <th>initals_Mr</th>\n",
       "      <th>initals_Mrs</th>\n",
       "      <th>initals_Other</th>\n",
       "    </tr>\n",
       "  </thead>\n",
       "  <tbody>\n",
       "    <tr>\n",
       "      <th>0</th>\n",
       "      <td>0</td>\n",
       "      <td>3</td>\n",
       "      <td>1</td>\n",
       "      <td>22.0</td>\n",
       "      <td>1</td>\n",
       "      <td>0</td>\n",
       "      <td>7.2500</td>\n",
       "      <td>0</td>\n",
       "      <td>0</td>\n",
       "      <td>1</td>\n",
       "      <td>0</td>\n",
       "      <td>0</td>\n",
       "      <td>1</td>\n",
       "      <td>0</td>\n",
       "      <td>0</td>\n",
       "    </tr>\n",
       "    <tr>\n",
       "      <th>1</th>\n",
       "      <td>1</td>\n",
       "      <td>1</td>\n",
       "      <td>0</td>\n",
       "      <td>38.0</td>\n",
       "      <td>1</td>\n",
       "      <td>0</td>\n",
       "      <td>71.2833</td>\n",
       "      <td>1</td>\n",
       "      <td>0</td>\n",
       "      <td>0</td>\n",
       "      <td>0</td>\n",
       "      <td>0</td>\n",
       "      <td>0</td>\n",
       "      <td>1</td>\n",
       "      <td>0</td>\n",
       "    </tr>\n",
       "    <tr>\n",
       "      <th>2</th>\n",
       "      <td>1</td>\n",
       "      <td>3</td>\n",
       "      <td>0</td>\n",
       "      <td>26.0</td>\n",
       "      <td>0</td>\n",
       "      <td>0</td>\n",
       "      <td>7.9250</td>\n",
       "      <td>0</td>\n",
       "      <td>0</td>\n",
       "      <td>1</td>\n",
       "      <td>0</td>\n",
       "      <td>1</td>\n",
       "      <td>0</td>\n",
       "      <td>0</td>\n",
       "      <td>0</td>\n",
       "    </tr>\n",
       "    <tr>\n",
       "      <th>3</th>\n",
       "      <td>1</td>\n",
       "      <td>1</td>\n",
       "      <td>0</td>\n",
       "      <td>35.0</td>\n",
       "      <td>1</td>\n",
       "      <td>0</td>\n",
       "      <td>53.1000</td>\n",
       "      <td>0</td>\n",
       "      <td>0</td>\n",
       "      <td>1</td>\n",
       "      <td>0</td>\n",
       "      <td>0</td>\n",
       "      <td>0</td>\n",
       "      <td>1</td>\n",
       "      <td>0</td>\n",
       "    </tr>\n",
       "    <tr>\n",
       "      <th>4</th>\n",
       "      <td>0</td>\n",
       "      <td>3</td>\n",
       "      <td>1</td>\n",
       "      <td>35.0</td>\n",
       "      <td>0</td>\n",
       "      <td>0</td>\n",
       "      <td>8.0500</td>\n",
       "      <td>0</td>\n",
       "      <td>0</td>\n",
       "      <td>1</td>\n",
       "      <td>0</td>\n",
       "      <td>0</td>\n",
       "      <td>1</td>\n",
       "      <td>0</td>\n",
       "      <td>0</td>\n",
       "    </tr>\n",
       "    <tr>\n",
       "      <th>...</th>\n",
       "      <td>...</td>\n",
       "      <td>...</td>\n",
       "      <td>...</td>\n",
       "      <td>...</td>\n",
       "      <td>...</td>\n",
       "      <td>...</td>\n",
       "      <td>...</td>\n",
       "      <td>...</td>\n",
       "      <td>...</td>\n",
       "      <td>...</td>\n",
       "      <td>...</td>\n",
       "      <td>...</td>\n",
       "      <td>...</td>\n",
       "      <td>...</td>\n",
       "      <td>...</td>\n",
       "    </tr>\n",
       "    <tr>\n",
       "      <th>886</th>\n",
       "      <td>0</td>\n",
       "      <td>2</td>\n",
       "      <td>1</td>\n",
       "      <td>27.0</td>\n",
       "      <td>0</td>\n",
       "      <td>0</td>\n",
       "      <td>13.0000</td>\n",
       "      <td>0</td>\n",
       "      <td>0</td>\n",
       "      <td>1</td>\n",
       "      <td>0</td>\n",
       "      <td>0</td>\n",
       "      <td>0</td>\n",
       "      <td>0</td>\n",
       "      <td>1</td>\n",
       "    </tr>\n",
       "    <tr>\n",
       "      <th>887</th>\n",
       "      <td>1</td>\n",
       "      <td>1</td>\n",
       "      <td>0</td>\n",
       "      <td>19.0</td>\n",
       "      <td>0</td>\n",
       "      <td>0</td>\n",
       "      <td>30.0000</td>\n",
       "      <td>0</td>\n",
       "      <td>0</td>\n",
       "      <td>1</td>\n",
       "      <td>0</td>\n",
       "      <td>1</td>\n",
       "      <td>0</td>\n",
       "      <td>0</td>\n",
       "      <td>0</td>\n",
       "    </tr>\n",
       "    <tr>\n",
       "      <th>888</th>\n",
       "      <td>0</td>\n",
       "      <td>3</td>\n",
       "      <td>0</td>\n",
       "      <td>22.0</td>\n",
       "      <td>1</td>\n",
       "      <td>2</td>\n",
       "      <td>23.4500</td>\n",
       "      <td>0</td>\n",
       "      <td>0</td>\n",
       "      <td>1</td>\n",
       "      <td>0</td>\n",
       "      <td>1</td>\n",
       "      <td>0</td>\n",
       "      <td>0</td>\n",
       "      <td>0</td>\n",
       "    </tr>\n",
       "    <tr>\n",
       "      <th>889</th>\n",
       "      <td>1</td>\n",
       "      <td>1</td>\n",
       "      <td>1</td>\n",
       "      <td>26.0</td>\n",
       "      <td>0</td>\n",
       "      <td>0</td>\n",
       "      <td>30.0000</td>\n",
       "      <td>1</td>\n",
       "      <td>0</td>\n",
       "      <td>0</td>\n",
       "      <td>0</td>\n",
       "      <td>0</td>\n",
       "      <td>1</td>\n",
       "      <td>0</td>\n",
       "      <td>0</td>\n",
       "    </tr>\n",
       "    <tr>\n",
       "      <th>890</th>\n",
       "      <td>0</td>\n",
       "      <td>3</td>\n",
       "      <td>1</td>\n",
       "      <td>32.0</td>\n",
       "      <td>0</td>\n",
       "      <td>0</td>\n",
       "      <td>7.7500</td>\n",
       "      <td>0</td>\n",
       "      <td>1</td>\n",
       "      <td>0</td>\n",
       "      <td>0</td>\n",
       "      <td>0</td>\n",
       "      <td>1</td>\n",
       "      <td>0</td>\n",
       "      <td>0</td>\n",
       "    </tr>\n",
       "  </tbody>\n",
       "</table>\n",
       "<p>891 rows × 15 columns</p>\n",
       "</div>"
      ],
      "text/plain": [
       "     Survived  Pclass  Sex   Age  SibSp  Parch     Fare  Embarked_C  \\\n",
       "0           0       3    1  22.0      1      0   7.2500           0   \n",
       "1           1       1    0  38.0      1      0  71.2833           1   \n",
       "2           1       3    0  26.0      0      0   7.9250           0   \n",
       "3           1       1    0  35.0      1      0  53.1000           0   \n",
       "4           0       3    1  35.0      0      0   8.0500           0   \n",
       "..        ...     ...  ...   ...    ...    ...      ...         ...   \n",
       "886         0       2    1  27.0      0      0  13.0000           0   \n",
       "887         1       1    0  19.0      0      0  30.0000           0   \n",
       "888         0       3    0  22.0      1      2  23.4500           0   \n",
       "889         1       1    1  26.0      0      0  30.0000           1   \n",
       "890         0       3    1  32.0      0      0   7.7500           0   \n",
       "\n",
       "     Embarked_Q  Embarked_S  initals_Master  initals_Miss  initals_Mr  \\\n",
       "0             0           1               0             0           1   \n",
       "1             0           0               0             0           0   \n",
       "2             0           1               0             1           0   \n",
       "3             0           1               0             0           0   \n",
       "4             0           1               0             0           1   \n",
       "..          ...         ...             ...           ...         ...   \n",
       "886           0           1               0             0           0   \n",
       "887           0           1               0             1           0   \n",
       "888           0           1               0             1           0   \n",
       "889           0           0               0             0           1   \n",
       "890           1           0               0             0           1   \n",
       "\n",
       "     initals_Mrs  initals_Other  \n",
       "0              0              0  \n",
       "1              1              0  \n",
       "2              0              0  \n",
       "3              1              0  \n",
       "4              0              0  \n",
       "..           ...            ...  \n",
       "886            0              1  \n",
       "887            0              0  \n",
       "888            0              0  \n",
       "889            0              0  \n",
       "890            0              0  \n",
       "\n",
       "[891 rows x 15 columns]"
      ]
     },
     "execution_count": 522,
     "metadata": {},
     "output_type": "execute_result"
    }
   ],
   "source": [
    "X = df.copy()\n",
    "X\n"
   ]
  },
  {
   "cell_type": "markdown",
   "id": "211eabc4",
   "metadata": {},
   "source": [
    "Survived will be our y value so we drop Survived"
   ]
  },
  {
   "cell_type": "code",
   "execution_count": 523,
   "id": "4109398f",
   "metadata": {},
   "outputs": [],
   "source": [
    "X.drop(['Survived'], axis=1, inplace=True)"
   ]
  },
  {
   "cell_type": "code",
   "execution_count": 524,
   "id": "28fbdd4a",
   "metadata": {},
   "outputs": [],
   "source": [
    "X.drop([\"SibSp\", \"Parch\"],axis=1,inplace=True)"
   ]
  },
  {
   "cell_type": "code",
   "execution_count": 525,
   "id": "a8b0eeec",
   "metadata": {},
   "outputs": [],
   "source": [
    "X.drop([\"Fare\"],axis=1,inplace=True)"
   ]
  },
  {
   "cell_type": "code",
   "execution_count": 526,
   "id": "161a63ec",
   "metadata": {},
   "outputs": [
    {
     "data": {
      "text/html": [
       "<div>\n",
       "<style scoped>\n",
       "    .dataframe tbody tr th:only-of-type {\n",
       "        vertical-align: middle;\n",
       "    }\n",
       "\n",
       "    .dataframe tbody tr th {\n",
       "        vertical-align: top;\n",
       "    }\n",
       "\n",
       "    .dataframe thead th {\n",
       "        text-align: right;\n",
       "    }\n",
       "</style>\n",
       "<table border=\"1\" class=\"dataframe\">\n",
       "  <thead>\n",
       "    <tr style=\"text-align: right;\">\n",
       "      <th></th>\n",
       "      <th>Pclass</th>\n",
       "      <th>Sex</th>\n",
       "      <th>Age</th>\n",
       "      <th>Embarked_C</th>\n",
       "      <th>Embarked_Q</th>\n",
       "      <th>Embarked_S</th>\n",
       "      <th>initals_Master</th>\n",
       "      <th>initals_Miss</th>\n",
       "      <th>initals_Mr</th>\n",
       "      <th>initals_Mrs</th>\n",
       "      <th>initals_Other</th>\n",
       "    </tr>\n",
       "  </thead>\n",
       "  <tbody>\n",
       "    <tr>\n",
       "      <th>0</th>\n",
       "      <td>3</td>\n",
       "      <td>1</td>\n",
       "      <td>22.0</td>\n",
       "      <td>0</td>\n",
       "      <td>0</td>\n",
       "      <td>1</td>\n",
       "      <td>0</td>\n",
       "      <td>0</td>\n",
       "      <td>1</td>\n",
       "      <td>0</td>\n",
       "      <td>0</td>\n",
       "    </tr>\n",
       "    <tr>\n",
       "      <th>1</th>\n",
       "      <td>1</td>\n",
       "      <td>0</td>\n",
       "      <td>38.0</td>\n",
       "      <td>1</td>\n",
       "      <td>0</td>\n",
       "      <td>0</td>\n",
       "      <td>0</td>\n",
       "      <td>0</td>\n",
       "      <td>0</td>\n",
       "      <td>1</td>\n",
       "      <td>0</td>\n",
       "    </tr>\n",
       "    <tr>\n",
       "      <th>2</th>\n",
       "      <td>3</td>\n",
       "      <td>0</td>\n",
       "      <td>26.0</td>\n",
       "      <td>0</td>\n",
       "      <td>0</td>\n",
       "      <td>1</td>\n",
       "      <td>0</td>\n",
       "      <td>1</td>\n",
       "      <td>0</td>\n",
       "      <td>0</td>\n",
       "      <td>0</td>\n",
       "    </tr>\n",
       "    <tr>\n",
       "      <th>3</th>\n",
       "      <td>1</td>\n",
       "      <td>0</td>\n",
       "      <td>35.0</td>\n",
       "      <td>0</td>\n",
       "      <td>0</td>\n",
       "      <td>1</td>\n",
       "      <td>0</td>\n",
       "      <td>0</td>\n",
       "      <td>0</td>\n",
       "      <td>1</td>\n",
       "      <td>0</td>\n",
       "    </tr>\n",
       "    <tr>\n",
       "      <th>4</th>\n",
       "      <td>3</td>\n",
       "      <td>1</td>\n",
       "      <td>35.0</td>\n",
       "      <td>0</td>\n",
       "      <td>0</td>\n",
       "      <td>1</td>\n",
       "      <td>0</td>\n",
       "      <td>0</td>\n",
       "      <td>1</td>\n",
       "      <td>0</td>\n",
       "      <td>0</td>\n",
       "    </tr>\n",
       "    <tr>\n",
       "      <th>...</th>\n",
       "      <td>...</td>\n",
       "      <td>...</td>\n",
       "      <td>...</td>\n",
       "      <td>...</td>\n",
       "      <td>...</td>\n",
       "      <td>...</td>\n",
       "      <td>...</td>\n",
       "      <td>...</td>\n",
       "      <td>...</td>\n",
       "      <td>...</td>\n",
       "      <td>...</td>\n",
       "    </tr>\n",
       "    <tr>\n",
       "      <th>886</th>\n",
       "      <td>2</td>\n",
       "      <td>1</td>\n",
       "      <td>27.0</td>\n",
       "      <td>0</td>\n",
       "      <td>0</td>\n",
       "      <td>1</td>\n",
       "      <td>0</td>\n",
       "      <td>0</td>\n",
       "      <td>0</td>\n",
       "      <td>0</td>\n",
       "      <td>1</td>\n",
       "    </tr>\n",
       "    <tr>\n",
       "      <th>887</th>\n",
       "      <td>1</td>\n",
       "      <td>0</td>\n",
       "      <td>19.0</td>\n",
       "      <td>0</td>\n",
       "      <td>0</td>\n",
       "      <td>1</td>\n",
       "      <td>0</td>\n",
       "      <td>1</td>\n",
       "      <td>0</td>\n",
       "      <td>0</td>\n",
       "      <td>0</td>\n",
       "    </tr>\n",
       "    <tr>\n",
       "      <th>888</th>\n",
       "      <td>3</td>\n",
       "      <td>0</td>\n",
       "      <td>22.0</td>\n",
       "      <td>0</td>\n",
       "      <td>0</td>\n",
       "      <td>1</td>\n",
       "      <td>0</td>\n",
       "      <td>1</td>\n",
       "      <td>0</td>\n",
       "      <td>0</td>\n",
       "      <td>0</td>\n",
       "    </tr>\n",
       "    <tr>\n",
       "      <th>889</th>\n",
       "      <td>1</td>\n",
       "      <td>1</td>\n",
       "      <td>26.0</td>\n",
       "      <td>1</td>\n",
       "      <td>0</td>\n",
       "      <td>0</td>\n",
       "      <td>0</td>\n",
       "      <td>0</td>\n",
       "      <td>1</td>\n",
       "      <td>0</td>\n",
       "      <td>0</td>\n",
       "    </tr>\n",
       "    <tr>\n",
       "      <th>890</th>\n",
       "      <td>3</td>\n",
       "      <td>1</td>\n",
       "      <td>32.0</td>\n",
       "      <td>0</td>\n",
       "      <td>1</td>\n",
       "      <td>0</td>\n",
       "      <td>0</td>\n",
       "      <td>0</td>\n",
       "      <td>1</td>\n",
       "      <td>0</td>\n",
       "      <td>0</td>\n",
       "    </tr>\n",
       "  </tbody>\n",
       "</table>\n",
       "<p>891 rows × 11 columns</p>\n",
       "</div>"
      ],
      "text/plain": [
       "     Pclass  Sex   Age  Embarked_C  Embarked_Q  Embarked_S  initals_Master  \\\n",
       "0         3    1  22.0           0           0           1               0   \n",
       "1         1    0  38.0           1           0           0               0   \n",
       "2         3    0  26.0           0           0           1               0   \n",
       "3         1    0  35.0           0           0           1               0   \n",
       "4         3    1  35.0           0           0           1               0   \n",
       "..      ...  ...   ...         ...         ...         ...             ...   \n",
       "886       2    1  27.0           0           0           1               0   \n",
       "887       1    0  19.0           0           0           1               0   \n",
       "888       3    0  22.0           0           0           1               0   \n",
       "889       1    1  26.0           1           0           0               0   \n",
       "890       3    1  32.0           0           1           0               0   \n",
       "\n",
       "     initals_Miss  initals_Mr  initals_Mrs  initals_Other  \n",
       "0               0           1            0              0  \n",
       "1               0           0            1              0  \n",
       "2               1           0            0              0  \n",
       "3               0           0            1              0  \n",
       "4               0           1            0              0  \n",
       "..            ...         ...          ...            ...  \n",
       "886             0           0            0              1  \n",
       "887             1           0            0              0  \n",
       "888             1           0            0              0  \n",
       "889             0           1            0              0  \n",
       "890             0           1            0              0  \n",
       "\n",
       "[891 rows x 11 columns]"
      ]
     },
     "execution_count": 526,
     "metadata": {},
     "output_type": "execute_result"
    }
   ],
   "source": [
    "X"
   ]
  },
  {
   "cell_type": "code",
   "execution_count": 527,
   "id": "5a596a85",
   "metadata": {},
   "outputs": [],
   "source": [
    "y = df[\"Survived\"]"
   ]
  },
  {
   "cell_type": "code",
   "execution_count": 528,
   "id": "3bd2051c",
   "metadata": {},
   "outputs": [],
   "source": [
    "from sklearn.model_selection import train_test_split\n",
    "X_train,X_test,y_train,y_test= train_test_split(X,y, test_size=0.5, random_state =42)"
   ]
  },
  {
   "cell_type": "markdown",
   "id": "e035503a",
   "metadata": {},
   "source": [
    "## LOGISTIC REGRESSION"
   ]
  },
  {
   "cell_type": "code",
   "execution_count": 529,
   "id": "a81ef34f",
   "metadata": {},
   "outputs": [],
   "source": [
    "from sklearn.linear_model import LogisticRegression"
   ]
  },
  {
   "cell_type": "code",
   "execution_count": 530,
   "id": "f20f33a8",
   "metadata": {},
   "outputs": [],
   "source": [
    "LOR_model = LogisticRegression()"
   ]
  },
  {
   "cell_type": "code",
   "execution_count": 531,
   "id": "e551f1f3",
   "metadata": {},
   "outputs": [
    {
     "data": {
      "text/plain": [
       "LogisticRegression()"
      ]
     },
     "execution_count": 531,
     "metadata": {},
     "output_type": "execute_result"
    }
   ],
   "source": [
    "LOR_model.fit(X_train,y_train)"
   ]
  },
  {
   "cell_type": "code",
   "execution_count": 532,
   "id": "1d21e268",
   "metadata": {},
   "outputs": [],
   "source": [
    "y_predicted_LOR = LOR_model.predict(X_test)"
   ]
  },
  {
   "cell_type": "code",
   "execution_count": 533,
   "id": "8609b677",
   "metadata": {},
   "outputs": [
    {
     "data": {
      "text/plain": [
       "array([1, 0, 0, 1, 1, 1, 1, 0, 1, 1, 0, 0, 0, 0, 0, 1, 0, 1, 0, 0, 0, 0,\n",
       "       0, 0, 0, 0, 1, 0, 0, 0, 0, 0, 1, 0, 0, 0, 0, 1, 1, 0, 0, 0, 0, 0,\n",
       "       1, 0, 0, 0, 0, 1, 1, 1, 0, 1, 0, 1, 0, 1, 1, 1, 0, 1, 1, 0, 0, 1,\n",
       "       0, 0, 0, 1, 1, 1, 1, 1, 0, 0, 1, 1, 1, 1, 0, 1, 1, 0, 1, 0, 1, 1,\n",
       "       0, 0, 0, 0, 0, 0, 0, 0, 0, 0, 1, 0, 0, 0, 1, 0, 0, 0, 1, 0, 0, 1,\n",
       "       1, 0, 1, 0, 0, 0, 0, 0, 1, 1, 0, 1, 1, 1, 0, 1, 1, 1, 1, 0, 1, 1,\n",
       "       0, 0, 1, 1, 1, 0, 0, 1, 0, 1, 0, 0, 1, 1, 0, 0, 1, 0, 0, 0, 0, 1,\n",
       "       0, 0, 0, 1, 1, 1, 0, 0, 0, 1, 0, 1, 0, 1, 0, 0, 1, 1, 0, 1, 0, 0,\n",
       "       1, 1, 0, 0, 0, 0, 0, 0, 1, 0, 0, 0, 0, 1, 0, 0, 0, 0, 1, 1, 1, 0,\n",
       "       1, 0, 0, 0, 1, 1, 0, 1, 0, 0, 0, 0, 1, 0, 1, 0, 0, 0, 1, 1, 1, 0,\n",
       "       0, 1, 0, 0, 0, 1, 0, 1, 1, 0, 0, 1, 0, 1, 0, 0, 1, 0, 1, 0, 0, 1,\n",
       "       0, 0, 0, 0, 0, 0, 0, 0, 0, 0, 0, 0, 0, 0, 0, 1, 0, 1, 1, 1, 1, 0,\n",
       "       0, 0, 0, 0, 1, 0, 0, 0, 0, 0, 1, 0, 0, 0, 1, 0, 0, 0, 1, 0, 0, 0,\n",
       "       1, 0, 1, 0, 0, 0, 1, 1, 0, 0, 0, 0, 0, 0, 1, 1, 0, 0, 0, 1, 0, 1,\n",
       "       0, 0, 0, 1, 0, 0, 0, 1, 1, 1, 1, 0, 0, 0, 0, 0, 1, 0, 0, 1, 0, 0,\n",
       "       0, 0, 1, 0, 0, 0, 1, 1, 0, 0, 0, 0, 0, 0, 0, 0, 1, 0, 1, 0, 1, 0,\n",
       "       0, 0, 1, 0, 0, 0, 1, 0, 0, 1, 1, 0, 1, 1, 0, 0, 0, 0, 1, 0, 0, 0,\n",
       "       0, 0, 1, 1, 1, 0, 1, 1, 1, 1, 0, 0, 0, 1, 0, 1, 1, 1, 1, 1, 1, 1,\n",
       "       0, 0, 0, 1, 1, 0, 1, 0, 1, 1, 1, 0, 1, 1, 0, 0, 1, 1, 0, 1, 1, 0,\n",
       "       0, 1, 1, 0, 1, 0, 0, 0, 1, 0, 1, 1, 1, 0, 0, 0, 1, 0, 0, 0, 0, 0,\n",
       "       0, 0, 0, 0, 0, 0], dtype=int64)"
      ]
     },
     "execution_count": 533,
     "metadata": {},
     "output_type": "execute_result"
    }
   ],
   "source": [
    "y_predicted_LOR"
   ]
  },
  {
   "cell_type": "code",
   "execution_count": 534,
   "id": "906f86aa",
   "metadata": {},
   "outputs": [
    {
     "name": "stdout",
     "output_type": "stream",
     "text": [
      "80.26905829596413 %\n"
     ]
    }
   ],
   "source": [
    "from sklearn.metrics import accuracy_score\n",
    "\n",
    "accuracy_LOR = accuracy_score(y_test,y_predicted_LOR)\n",
    "accuracy_percent_LOR = accuracy_LOR*100\n",
    "print(accuracy_percent_LOR,\"{}\".format(\"%\"))\n"
   ]
  },
  {
   "cell_type": "markdown",
   "id": "9acabfe2",
   "metadata": {},
   "source": [
    "Now let us Shuffel and see other results"
   ]
  },
  {
   "cell_type": "code",
   "execution_count": 535,
   "id": "50a78a8e",
   "metadata": {},
   "outputs": [],
   "source": [
    "from sklearn.model_selection import ShuffleSplit\n",
    "from sklearn.model_selection import cross_val_score\n",
    "\n",
    "\n"
   ]
  },
  {
   "cell_type": "code",
   "execution_count": null,
   "id": "e083fb82",
   "metadata": {},
   "outputs": [],
   "source": []
  },
  {
   "cell_type": "markdown",
   "id": "1199868a",
   "metadata": {},
   "source": [
    "We will shuffel our data 8 times to see the accuracy range"
   ]
  },
  {
   "cell_type": "code",
   "execution_count": 536,
   "id": "01719ae7",
   "metadata": {},
   "outputs": [],
   "source": [
    "import warnings  #due to big data there will be warnings so to avoid that we use this package\n",
    "warnings.filterwarnings('ignore')"
   ]
  },
  {
   "cell_type": "code",
   "execution_count": 537,
   "id": "6a37856e",
   "metadata": {},
   "outputs": [],
   "source": [
    "cross_val_LOR = ShuffleSplit(n_splits= 8, test_size=0.3)\n",
    "cross_validation_score_LOR= cross_val_score(LogisticRegression(),X,y,cv=cross_val_LOR)"
   ]
  },
  {
   "cell_type": "code",
   "execution_count": 538,
   "id": "adc57e9f",
   "metadata": {},
   "outputs": [
    {
     "data": {
      "text/plain": [
       "array([0.80223881, 0.77985075, 0.81343284, 0.7761194 , 0.79477612,\n",
       "       0.83955224, 0.80223881, 0.80970149])"
      ]
     },
     "execution_count": 538,
     "metadata": {},
     "output_type": "execute_result"
    }
   ],
   "source": [
    "cross_validation_score_LOR"
   ]
  },
  {
   "cell_type": "code",
   "execution_count": 539,
   "id": "59a0985f",
   "metadata": {},
   "outputs": [],
   "source": [
    "LOR_model_accuracy=[]"
   ]
  },
  {
   "cell_type": "code",
   "execution_count": 540,
   "id": "0244cb9f",
   "metadata": {},
   "outputs": [
    {
     "name": "stdout",
     "output_type": "stream",
     "text": [
      "80.22388059701493 %\n",
      "77.98507462686567 %\n",
      "81.34328358208955 %\n",
      "77.61194029850746 %\n",
      "79.47761194029852 %\n",
      "83.95522388059702 %\n",
      "80.22388059701493 %\n",
      "80.97014925373134 %\n"
     ]
    }
   ],
   "source": [
    "for i in cross_validation_score_LOR:\n",
    "    LOR_model_accuracy.append(i*100)\n",
    "    print(i*100,\"{}\".format(\"%\"))"
   ]
  },
  {
   "cell_type": "code",
   "execution_count": 541,
   "id": "968e7fca",
   "metadata": {},
   "outputs": [],
   "source": [
    "LOR_model_accuracy.sort()\n"
   ]
  },
  {
   "cell_type": "code",
   "execution_count": 542,
   "id": "2446c77e",
   "metadata": {},
   "outputs": [
    {
     "data": {
      "text/plain": [
       "[77.61194029850746,\n",
       " 77.98507462686567,\n",
       " 79.47761194029852,\n",
       " 80.22388059701493,\n",
       " 80.22388059701493,\n",
       " 80.97014925373134,\n",
       " 81.34328358208955,\n",
       " 83.95522388059702]"
      ]
     },
     "execution_count": 542,
     "metadata": {},
     "output_type": "execute_result"
    }
   ],
   "source": [
    "LOR_model_accuracy"
   ]
  },
  {
   "cell_type": "code",
   "execution_count": 543,
   "id": "48fd0dc3",
   "metadata": {},
   "outputs": [],
   "source": [
    "best_accuracy_score[\"LOGISTIC REGRESSION\"] = LOR_model_accuracy[(len(LOR_model_accuracy)-1)]"
   ]
  },
  {
   "cell_type": "code",
   "execution_count": 544,
   "id": "546e5063",
   "metadata": {},
   "outputs": [
    {
     "data": {
      "text/plain": [
       "{'LOGISTIC REGRESSION': 83.95522388059702}"
      ]
     },
     "execution_count": 544,
     "metadata": {},
     "output_type": "execute_result"
    }
   ],
   "source": [
    "best_accuracy_score"
   ]
  },
  {
   "cell_type": "markdown",
   "id": "2467c4aa",
   "metadata": {},
   "source": [
    "## K-NEAREST NEIGHBOURS"
   ]
  },
  {
   "cell_type": "markdown",
   "id": "c33aa559",
   "metadata": {},
   "source": [
    "we assume k = 7 HERE"
   ]
  },
  {
   "cell_type": "code",
   "execution_count": 545,
   "id": "a263fcdb",
   "metadata": {},
   "outputs": [],
   "source": [
    "from sklearn.neighbors import KNeighborsClassifier"
   ]
  },
  {
   "cell_type": "code",
   "execution_count": 546,
   "id": "8b6b7b23",
   "metadata": {},
   "outputs": [
    {
     "data": {
      "text/plain": [
       "KNeighborsClassifier(n_neighbors=7)"
      ]
     },
     "execution_count": 546,
     "metadata": {},
     "output_type": "execute_result"
    }
   ],
   "source": [
    "KNN = KNeighborsClassifier(n_neighbors=7)\n",
    "KNN.fit(X_train,y_train) "
   ]
  },
  {
   "cell_type": "code",
   "execution_count": 547,
   "id": "0f70d493",
   "metadata": {},
   "outputs": [],
   "source": [
    "y_predicted_KNN = KNN.predict(X_test)"
   ]
  },
  {
   "cell_type": "code",
   "execution_count": 548,
   "id": "f1e20fdb",
   "metadata": {},
   "outputs": [
    {
     "name": "stdout",
     "output_type": "stream",
     "text": [
      "78.47533632286996 %\n"
     ]
    }
   ],
   "source": [
    "accuracy_KNN = accuracy_score(y_test,y_predicted_KNN)\n",
    "accuracy_percent_KNN = accuracy_KNN*100\n",
    "print(accuracy_percent_KNN,\"{}\".format(\"%\"))"
   ]
  },
  {
   "cell_type": "code",
   "execution_count": 549,
   "id": "6639bdf6",
   "metadata": {},
   "outputs": [],
   "source": [
    "kNN_accuracy=[]"
   ]
  },
  {
   "cell_type": "code",
   "execution_count": 550,
   "id": "770ca44c",
   "metadata": {},
   "outputs": [],
   "source": [
    "cross_val_KNN = ShuffleSplit(n_splits= 8, test_size=0.3)\n",
    "cross_validation_score_KNN= cross_val_score(KNeighborsClassifier(),X,y,cv=cross_val_KNN)"
   ]
  },
  {
   "cell_type": "code",
   "execution_count": 551,
   "id": "d57c9971",
   "metadata": {},
   "outputs": [
    {
     "data": {
      "text/plain": [
       "array([0.78731343, 0.77238806, 0.76492537, 0.75      , 0.75746269,\n",
       "       0.77238806, 0.78358209, 0.72014925])"
      ]
     },
     "execution_count": 551,
     "metadata": {},
     "output_type": "execute_result"
    }
   ],
   "source": [
    "cross_validation_score_KNN"
   ]
  },
  {
   "cell_type": "code",
   "execution_count": 552,
   "id": "504cc1da",
   "metadata": {},
   "outputs": [
    {
     "name": "stdout",
     "output_type": "stream",
     "text": [
      "78.73134328358209 %\n",
      "77.23880597014924 %\n",
      "76.49253731343283 %\n",
      "75.0 %\n",
      "75.74626865671642 %\n",
      "77.23880597014924 %\n",
      "78.35820895522389 %\n",
      "72.01492537313433 %\n"
     ]
    }
   ],
   "source": [
    "for i in cross_validation_score_KNN:\n",
    "    kNN_accuracy.append(i*100)\n",
    "    print(i*100,\"{}\".format(\"%\"))"
   ]
  },
  {
   "cell_type": "code",
   "execution_count": 553,
   "id": "5a2b2225",
   "metadata": {},
   "outputs": [],
   "source": [
    "kNN_accuracy.sort()"
   ]
  },
  {
   "cell_type": "code",
   "execution_count": 554,
   "id": "0465d4d1",
   "metadata": {},
   "outputs": [
    {
     "data": {
      "text/plain": [
       "[72.01492537313433,\n",
       " 75.0,\n",
       " 75.74626865671642,\n",
       " 76.49253731343283,\n",
       " 77.23880597014924,\n",
       " 77.23880597014924,\n",
       " 78.35820895522389,\n",
       " 78.73134328358209]"
      ]
     },
     "execution_count": 554,
     "metadata": {},
     "output_type": "execute_result"
    }
   ],
   "source": [
    "kNN_accuracy"
   ]
  },
  {
   "cell_type": "code",
   "execution_count": 555,
   "id": "e836ba4c",
   "metadata": {},
   "outputs": [],
   "source": [
    "best_accuracy_score[\"k-NEAREST NEIGHBOUR\"]= kNN_accuracy[len(kNN_accuracy)-1]"
   ]
  },
  {
   "cell_type": "code",
   "execution_count": 556,
   "id": "0403f7a5",
   "metadata": {},
   "outputs": [
    {
     "data": {
      "text/plain": [
       "{'LOGISTIC REGRESSION': 83.95522388059702,\n",
       " 'k-NEAREST NEIGHBOUR': 78.73134328358209}"
      ]
     },
     "execution_count": 556,
     "metadata": {},
     "output_type": "execute_result"
    }
   ],
   "source": [
    "best_accuracy_score"
   ]
  },
  {
   "cell_type": "markdown",
   "id": "c41430a4",
   "metadata": {},
   "source": [
    "We can clearly see LOGISTIC REGRESSION MODEL has performed better than KNN so we will go with LOGISTIC REGRESSION MODEL"
   ]
  },
  {
   "cell_type": "markdown",
   "id": "782a6bb4",
   "metadata": {},
   "source": [
    "## DECISION TREE"
   ]
  },
  {
   "cell_type": "code",
   "execution_count": 557,
   "id": "36e9e64c",
   "metadata": {},
   "outputs": [],
   "source": [
    " from sklearn.tree import DecisionTreeClassifier"
   ]
  },
  {
   "cell_type": "code",
   "execution_count": 558,
   "id": "c311e8fc",
   "metadata": {},
   "outputs": [
    {
     "data": {
      "text/plain": [
       "DecisionTreeClassifier(max_depth=2, random_state=0)"
      ]
     },
     "execution_count": 558,
     "metadata": {},
     "output_type": "execute_result"
    }
   ],
   "source": [
    "DT_model =DecisionTreeClassifier(random_state=0, max_depth=2)\n",
    "DT_model.fit(X_train,y_train)"
   ]
  },
  {
   "cell_type": "code",
   "execution_count": 559,
   "id": "e7a247c6",
   "metadata": {},
   "outputs": [],
   "source": [
    "y_predicted_DT = DT_model.predict(X_test)"
   ]
  },
  {
   "cell_type": "code",
   "execution_count": 560,
   "id": "deda0994",
   "metadata": {},
   "outputs": [],
   "source": [
    "DT_accuracy=[]"
   ]
  },
  {
   "cell_type": "code",
   "execution_count": 561,
   "id": "cdb3ed05",
   "metadata": {},
   "outputs": [
    {
     "name": "stdout",
     "output_type": "stream",
     "text": [
      "78.69955156950674 %\n"
     ]
    }
   ],
   "source": [
    "accuracy_DT= accuracy_score(y_test,y_predicted_DT)\n",
    "accuracy_percent_DT = accuracy_DT*100\n",
    "print(accuracy_percent_DT,\"{}\".format(\"%\"))"
   ]
  },
  {
   "cell_type": "code",
   "execution_count": 562,
   "id": "04ade222",
   "metadata": {},
   "outputs": [],
   "source": [
    "cross_val_DT = ShuffleSplit(n_splits= 8, test_size=0.3)\n",
    "cross_validation_score_DT= cross_val_score(DecisionTreeClassifier(),X,y,cv=cross_val_DT)"
   ]
  },
  {
   "cell_type": "code",
   "execution_count": 563,
   "id": "d0a830bc",
   "metadata": {},
   "outputs": [
    {
     "data": {
      "text/plain": [
       "array([0.8358209 , 0.79477612, 0.81343284, 0.78358209, 0.80970149,\n",
       "       0.78731343, 0.80223881, 0.80597015])"
      ]
     },
     "execution_count": 563,
     "metadata": {},
     "output_type": "execute_result"
    }
   ],
   "source": [
    "cross_validation_score_DT"
   ]
  },
  {
   "cell_type": "code",
   "execution_count": 564,
   "id": "18f4b2cb",
   "metadata": {},
   "outputs": [
    {
     "name": "stdout",
     "output_type": "stream",
     "text": [
      "83.5820895522388 %\n",
      "79.47761194029852 %\n",
      "81.34328358208955 %\n",
      "78.35820895522389 %\n",
      "80.97014925373134 %\n",
      "78.73134328358209 %\n",
      "80.22388059701493 %\n",
      "80.59701492537313 %\n"
     ]
    }
   ],
   "source": [
    "for i in cross_validation_score_DT:\n",
    "    DT_accuracy.append(i*100)\n",
    "    print(i*100,\"{}\".format(\"%\"))"
   ]
  },
  {
   "cell_type": "code",
   "execution_count": 565,
   "id": "b0c44f41",
   "metadata": {},
   "outputs": [],
   "source": [
    "DT_accuracy.sort()"
   ]
  },
  {
   "cell_type": "code",
   "execution_count": 566,
   "id": "33e3b4f9",
   "metadata": {},
   "outputs": [],
   "source": [
    "best_accuracy_score[\"DECISION TREE\"]= DT_accuracy[len(DT_accuracy)-1]"
   ]
  },
  {
   "cell_type": "code",
   "execution_count": 570,
   "id": "cf0c19d5",
   "metadata": {},
   "outputs": [
    {
     "data": {
      "text/plain": [
       "{'LOGISTIC REGRESSION': 83.95522388059702,\n",
       " 'k-NEAREST NEIGHBOUR': 78.73134328358209,\n",
       " 'DECISION TREE': 83.5820895522388}"
      ]
     },
     "execution_count": 570,
     "metadata": {},
     "output_type": "execute_result"
    }
   ],
   "source": [
    "best_accuracy_score"
   ]
  },
  {
   "cell_type": "markdown",
   "id": "a7b3099e",
   "metadata": {},
   "source": [
    "LOGISTIC REGRESSION still Remains the best"
   ]
  },
  {
   "cell_type": "markdown",
   "id": "7898b7de",
   "metadata": {},
   "source": [
    "## BUILDING THE MODEL FUNCTION"
   ]
  },
  {
   "cell_type": "markdown",
   "id": "5d3133bd",
   "metadata": {},
   "source": [
    "0 : FEMALE     1: MALE\n",
    "0:  DID NOT SURVIVE   1: DID SURVIVE"
   ]
  },
  {
   "cell_type": "code",
   "execution_count": 571,
   "id": "ccc47945",
   "metadata": {},
   "outputs": [
    {
     "data": {
      "text/plain": [
       "Index(['Pclass', 'Sex', 'Age', 'Embarked_C', 'Embarked_Q', 'Embarked_S',\n",
       "       'initals_Master', 'initals_Miss', 'initals_Mr', 'initals_Mrs',\n",
       "       'initals_Other'],\n",
       "      dtype='object')"
      ]
     },
     "execution_count": 571,
     "metadata": {},
     "output_type": "execute_result"
    }
   ],
   "source": [
    "X.columns"
   ]
  },
  {
   "cell_type": "code",
   "execution_count": 572,
   "id": "8e388428",
   "metadata": {},
   "outputs": [],
   "source": [
    "def predict_survival (initials,pclass,sex,age,embarked):\n",
    "    \n",
    "    index= np.where(X.columns==initials)[0][0]\n",
    "    index_two = np.where(X.columns==embarked)[0][0]\n",
    "    \n",
    "    arr=np.zeros(len(X.columns))  \n",
    "    arr[0]=pclass\n",
    "    arr[1]=sex\n",
    "    arr[2]=age\n",
    "    arr[index]=1\n",
    "    arr[index_two]=1\n",
    "  \n",
    " \n",
    "   \n",
    "    \n",
    "\n",
    "        \n",
    "    Survival_predicted=LOR_model.predict([arr])[0]\n",
    "    return (Survival_predicted)"
   ]
  },
  {
   "cell_type": "code",
   "execution_count": null,
   "id": "ad6f1f0e",
   "metadata": {},
   "outputs": [],
   "source": []
  },
  {
   "cell_type": "code",
   "execution_count": null,
   "id": "2a5e5473",
   "metadata": {},
   "outputs": [],
   "source": []
  },
  {
   "cell_type": "markdown",
   "id": "313f8f1d",
   "metadata": {},
   "source": [
    "## PREDICTION TEST"
   ]
  },
  {
   "cell_type": "markdown",
   "id": "4013cee7",
   "metadata": {},
   "source": []
  },
  {
   "cell_type": "code",
   "execution_count": 573,
   "id": "e0702686",
   "metadata": {},
   "outputs": [
    {
     "data": {
      "text/plain": [
       "1"
      ]
     },
     "execution_count": 573,
     "metadata": {},
     "output_type": "execute_result"
    }
   ],
   "source": [
    "predict_survival_two(\"initals_Other\",1,0,45,\"Embarked_C\")"
   ]
  },
  {
   "cell_type": "code",
   "execution_count": 574,
   "id": "5497fd56",
   "metadata": {},
   "outputs": [
    {
     "data": {
      "text/plain": [
       "1"
      ]
     },
     "execution_count": 574,
     "metadata": {},
     "output_type": "execute_result"
    }
   ],
   "source": [
    "predict_survival(\"initals_Other\",1,0,45,\"Embarked_C\")"
   ]
  },
  {
   "cell_type": "code",
   "execution_count": 575,
   "id": "513ca7a0",
   "metadata": {},
   "outputs": [
    {
     "data": {
      "text/plain": [
       "0"
      ]
     },
     "execution_count": 575,
     "metadata": {},
     "output_type": "execute_result"
    }
   ],
   "source": [
    "predict_survival(\"initals_Mr\",3,1,45,\"Embarked_C\")  #a MR from 3RD PCLASS with age 45 embarked on Queensland Did not survive"
   ]
  },
  {
   "cell_type": "code",
   "execution_count": 576,
   "id": "727e35b8",
   "metadata": {},
   "outputs": [
    {
     "data": {
      "text/plain": [
       "1"
      ]
     },
     "execution_count": 576,
     "metadata": {},
     "output_type": "execute_result"
    }
   ],
   "source": [
    "predict_survival(\"initals_Mrs\",2,1,25,\"Embarked_Q\")"
   ]
  },
  {
   "cell_type": "code",
   "execution_count": 577,
   "id": "2d2b765e",
   "metadata": {},
   "outputs": [
    {
     "data": {
      "text/plain": [
       "0"
      ]
     },
     "execution_count": 577,
     "metadata": {},
     "output_type": "execute_result"
    }
   ],
   "source": [
    "predict_survival(\"initals_Mrs\",3,1,20,\"Embarked_S\")"
   ]
  },
  {
   "cell_type": "code",
   "execution_count": 578,
   "id": "77465ce1",
   "metadata": {},
   "outputs": [
    {
     "data": {
      "text/plain": [
       "1"
      ]
     },
     "execution_count": 578,
     "metadata": {},
     "output_type": "execute_result"
    }
   ],
   "source": [
    "predict_survival(\"initals_Mrs\",3,1,20,\"Embarked_Q\")"
   ]
  },
  {
   "cell_type": "code",
   "execution_count": 579,
   "id": "665998c1",
   "metadata": {},
   "outputs": [
    {
     "data": {
      "text/plain": [
       "1"
      ]
     },
     "execution_count": 579,
     "metadata": {},
     "output_type": "execute_result"
    }
   ],
   "source": [
    "predict_survival(\"initals_Master\",3,0,5,\"Embarked_C\")"
   ]
  },
  {
   "cell_type": "code",
   "execution_count": 580,
   "id": "352e9017",
   "metadata": {},
   "outputs": [
    {
     "data": {
      "text/plain": [
       "0"
      ]
     },
     "execution_count": 580,
     "metadata": {},
     "output_type": "execute_result"
    }
   ],
   "source": [
    "predict_survival(\"initals_Mr\",3,0,65,\"Embarked_C\")  #Male of 3rd class did not survide"
   ]
  },
  {
   "cell_type": "code",
   "execution_count": 581,
   "id": "661a72fa",
   "metadata": {},
   "outputs": [
    {
     "data": {
      "text/plain": [
       "1"
      ]
     },
     "execution_count": 581,
     "metadata": {},
     "output_type": "execute_result"
    }
   ],
   "source": [
    "predict_survival(\"initals_Mrs\",3,0,15,\"Embarked_S\") "
   ]
  },
  {
   "cell_type": "code",
   "execution_count": 582,
   "id": "52157939",
   "metadata": {},
   "outputs": [
    {
     "data": {
      "text/plain": [
       "1"
      ]
     },
     "execution_count": 582,
     "metadata": {},
     "output_type": "execute_result"
    }
   ],
   "source": [
    "predict_survival(\"initals_Mrs\",3,1,15,\"Embarked_C\") "
   ]
  },
  {
   "cell_type": "code",
   "execution_count": 583,
   "id": "0775149b",
   "metadata": {},
   "outputs": [
    {
     "data": {
      "text/plain": [
       "0"
      ]
     },
     "execution_count": 583,
     "metadata": {},
     "output_type": "execute_result"
    }
   ],
   "source": [
    "predict_survival(\"initals_Mrs\",3,1,25,\"Embarked_S\") "
   ]
  },
  {
   "cell_type": "code",
   "execution_count": null,
   "id": "b04eefa2",
   "metadata": {},
   "outputs": [],
   "source": []
  },
  {
   "cell_type": "code",
   "execution_count": null,
   "id": "a0b7c8ee",
   "metadata": {},
   "outputs": [],
   "source": []
  },
  {
   "cell_type": "code",
   "execution_count": null,
   "id": "3595a107",
   "metadata": {},
   "outputs": [],
   "source": []
  },
  {
   "cell_type": "code",
   "execution_count": null,
   "id": "a81849ba",
   "metadata": {},
   "outputs": [],
   "source": []
  }
 ],
 "metadata": {
  "kernelspec": {
   "display_name": "KernalAnalysis",
   "language": "python",
   "name": "kernalanalysis"
  },
  "language_info": {
   "codemirror_mode": {
    "name": "ipython",
    "version": 3
   },
   "file_extension": ".py",
   "mimetype": "text/x-python",
   "name": "python",
   "nbconvert_exporter": "python",
   "pygments_lexer": "ipython3",
   "version": "3.9.7"
  }
 },
 "nbformat": 4,
 "nbformat_minor": 5
}
